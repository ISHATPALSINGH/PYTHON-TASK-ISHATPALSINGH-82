{
 "cells": [
  {
   "cell_type": "code",
   "execution_count": 11,
   "id": "bda935e4-12bc-429e-828e-3f120aaa184d",
   "metadata": {},
   "outputs": [
    {
     "name": "stdin",
     "output_type": "stream",
     "text": [
      "Enter a number:  6\n",
      "How many multiples do you want to generate?  7\n"
     ]
    },
    {
     "name": "stdout",
     "output_type": "stream",
     "text": [
      "6\n",
      "12\n",
      "18\n",
      "24\n",
      "30\n",
      "36\n",
      "42\n"
     ]
    }
   ],
   "source": [
    "#1 \n",
    "num = int(input(\"Enter a number: \"))\n",
    "\n",
    "limit = int(input(\"How many multiples do you want to generate? \"))\n",
    "\n",
    "i = 1  \n",
    "while i <= limit:\n",
    "    multiple = num * i\n",
    "    print(multiple)\n",
    "    i += 1\n",
    "\n",
    "\n",
    "\n"
   ]
  },
  {
   "cell_type": "code",
   "execution_count": 7,
   "id": "1d54f199-b3e7-4fd1-975b-dc17eb823183",
   "metadata": {},
   "outputs": [
    {
     "name": "stdin",
     "output_type": "stream",
     "text": [
      "Enter a number:  9\n"
     ]
    },
    {
     "name": "stdout",
     "output_type": "stream",
     "text": [
      "362880\n"
     ]
    }
   ],
   "source": [
    "#2 \n",
    "\n",
    "\n",
    "num = int(input(\"Enter a number: \"))\n",
    "\n",
    "factorial = 1\n",
    "i = 1\n",
    "\n",
    "while i <= num:\n",
    "    factorial = factorial * i\n",
    "    i += 1\n",
    "print(f\"{factorial}\")\n"
   ]
  },
  {
   "cell_type": "code",
   "execution_count": 14,
   "id": "bb424f2e-6cf3-488b-a9a8-ccf2034dc1c1",
   "metadata": {},
   "outputs": [
    {
     "name": "stdout",
     "output_type": "stream",
     "text": [
      "Even numbers between 10 and 25:\n",
      "10\n",
      "12\n",
      "14\n",
      "16\n",
      "18\n",
      "20\n",
      "22\n",
      "24\n",
      "\n",
      "Odd numbers between 10 and 25:\n",
      "11\n",
      "13\n",
      "15\n",
      "17\n",
      "19\n",
      "21\n",
      "23\n",
      "25\n"
     ]
    }
   ],
   "source": [
    "# 3\n",
    "start = 10\n",
    "end = 25\n",
    "\n",
    "print(\"Even numbers between 10 and 25:\")\n",
    "i = start\n",
    "while i <= end:\n",
    "    if i % 2 == 0:\n",
    "        print(i)\n",
    "    i += 1\n",
    "print(\"\\nOdd numbers between 10 and 25:\")\n",
    "i = start\n",
    "while i <= end:\n",
    "    if i % 2 != 0:\n",
    "        print(i)\n",
    "    i += 1\n",
    "\n"
   ]
  },
  {
   "cell_type": "code",
   "execution_count": 21,
   "id": "5a28edea-9dae-415b-a437-eab55ae01f0c",
   "metadata": {},
   "outputs": [
    {
     "name": "stdin",
     "output_type": "stream",
     "text": [
      "Enter a number to generate its multiplication table:  2\n"
     ]
    },
    {
     "name": "stdout",
     "output_type": "stream",
     "text": [
      "2 x 2 = 4\n",
      "2 x 3 = 6\n",
      "2 x 4 = 8\n",
      "2 x 5 = 10\n",
      "2 x 6 = 12\n",
      "2 x 7 = 14\n",
      "2 x 8 = 16\n",
      "2 x 9 = 18\n",
      "2 x 10 = 20\n"
     ]
    }
   ],
   "source": [
    "# 4\n",
    "\n",
    "num = int(input(\"Enter a number to generate its multiplication table: \"))\n",
    "\n",
    "i = 2   \n",
    "while i <= 10:  \n",
    "    print(f\"{num} x {i} = {num * i}\")\n",
    "    i =i+ 1\n"
   ]
  },
  {
   "cell_type": "code",
   "execution_count": 22,
   "id": "5652ad79-201d-4361-94c9-79e2f9683442",
   "metadata": {},
   "outputs": [
    {
     "name": "stdin",
     "output_type": "stream",
     "text": [
      "Enter a number:  4\n"
     ]
    },
    {
     "name": "stdout",
     "output_type": "stream",
     "text": [
      "4 is a Palindrome number.\n"
     ]
    }
   ],
   "source": [
    "#5\n",
    "\n",
    "num = int(input(\"Enter a number: \"))\n",
    "\n",
    "original = num  \n",
    "reverse_num = 0  \n",
    "\n",
    "while num > 0:\n",
    "    digit = num % 10              \n",
    "    reverse_num = reverse_num * 10 + digit \n",
    "    num = num // 10               \n",
    "\n",
    "if original == reverse_num:\n",
    "    print(f\"{original} is a Palindrome number.\")\n",
    "else:\n",
    "    print(f\"{original} is NOT a Palindrome number.\")\n"
   ]
  },
  {
   "cell_type": "code",
   "execution_count": 23,
   "id": "ded4f00c-0b12-4920-bcc1-ae19374e040c",
   "metadata": {},
   "outputs": [
    {
     "name": "stdin",
     "output_type": "stream",
     "text": [
      "Enter a number (limit for Fibonacci series):  3\n"
     ]
    },
    {
     "name": "stdout",
     "output_type": "stream",
     "text": [
      "Fibonacci Series:\n",
      "0 1 1 2 3 "
     ]
    }
   ],
   "source": [
    "# 6\n",
    "\n",
    "limit = int(input(\"Enter a number (limit for Fibonacci series): \"))\n",
    "\n",
    "a, b = 0, 1   \n",
    "\n",
    "print(\"Fibonacci Series:\")\n",
    "\n",
    "while a <= limit:   \n",
    "    print(a, end=\" \")\n",
    "    a, b = b, a + b \n"
   ]
  },
  {
   "cell_type": "code",
   "execution_count": 4,
   "id": "c3f5ad2e-ef7c-4dbe-ab48-8fbb2adeda1d",
   "metadata": {},
   "outputs": [
    {
     "name": "stdin",
     "output_type": "stream",
     "text": [
      "Enter a number  5\n"
     ]
    },
    {
     "name": "stdout",
     "output_type": "stream",
     "text": [
      "5 is a prime number.\n"
     ]
    }
   ],
   "source": [
    "# 7\n",
    "\n",
    "\n",
    "num = int(input(\"Enter a number \"))\n",
    "\n",
    "if num < 2:\n",
    "    print(num, \"is not a prime number.\")\n",
    "else:\n",
    "    i = 2  \n",
    "    is_prime = True\n",
    "    \n",
    "    while i <= num // 2:  \n",
    "        if num % i == 0:\n",
    "            is_prime = False\n",
    "              \n",
    "        i += 1  \n",
    "    \n",
    "    if is_prime:\n",
    "        print(num, \"is a prime number.\")\n",
    "    else:\n",
    "        print(num, \"is not a prime number.\")\n"
   ]
  },
  {
   "cell_type": "code",
   "execution_count": 6,
   "id": "dd9209f7-e476-4684-8798-ae7c1bc49420",
   "metadata": {},
   "outputs": [
    {
     "name": "stdout",
     "output_type": "stream",
     "text": [
      "Square of 1: 1\n",
      "Square of 2: 4\n",
      "Square of 3: 9\n",
      "Square of 4: 16\n",
      "Square of 5: 25\n",
      "Square of 6: 36\n",
      "Square of 7: 49\n",
      "Square of 8: 64\n",
      "Square of 9: 81\n",
      "Square of 10: 100\n"
     ]
    }
   ],
   "source": [
    "#8\n",
    "\n",
    "n = 1\n",
    "while n <= 10:\n",
    "    print(f\"Square of {n}: {n*n}\")\n",
    "    n += 1\n"
   ]
  },
  {
   "cell_type": "code",
   "execution_count": 10,
   "id": "19bf3646-eddc-4553-bb05-866fa8c2ddbe",
   "metadata": {},
   "outputs": [
    {
     "name": "stdin",
     "output_type": "stream",
     "text": [
      "Enter a number:  44\n"
     ]
    },
    {
     "name": "stdout",
     "output_type": "stream",
     "text": [
      "Sum of digits of 44 is: 8\n"
     ]
    }
   ],
   "source": [
    "#9\n",
    "\n",
    "num = int(input(\"Enter a number: \"))\n",
    "\n",
    "\n",
    "n = (num)\n",
    "total = 0\n",
    "\n",
    "while n > 0:\n",
    "    total += n % 10   \n",
    "    n //= 10         \n",
    "\n",
    "print(f\"Sum of digits of {num} is: {total}\")\n"
   ]
  },
  {
   "cell_type": "code",
   "execution_count": 17,
   "id": "19381cd6-1aa1-4ace-8abd-00cfb0106186",
   "metadata": {},
   "outputs": [
    {
     "name": "stdin",
     "output_type": "stream",
     "text": [
      "Enter a number:  89\n"
     ]
    },
    {
     "name": "stdout",
     "output_type": "stream",
     "text": [
      "89 is not a palindrome.\n"
     ]
    }
   ],
   "source": [
    "# 10   # Check if a number is a palindrome using a while loop\n",
    "\n",
    "num = int(input(\"Enter a number: \"))\n",
    "\n",
    "n = abs(num)\n",
    "rev = 0\n",
    "temp = n\n",
    "\n",
    "while temp > 0:\n",
    "    digit = temp % 10        \n",
    "    rev = rev * 10 + digit     \n",
    "    temp //= 10                \n",
    "\n",
    "if n == rev:\n",
    "    print(f\"{num} is a palindrome.\")\n",
    "else:\n",
    "    print(f\"{num} is not a palindrome.\")\n"
   ]
  },
  {
   "cell_type": "code",
   "execution_count": 21,
   "id": "afcbcd9f-6c1d-4b5f-a5c7-56724957d8bc",
   "metadata": {},
   "outputs": [
    {
     "name": "stdin",
     "output_type": "stream",
     "text": [
      "Enter start of range:  4\n",
      "Enter end of range:  5\n"
     ]
    },
    {
     "name": "stdout",
     "output_type": "stream",
     "text": [
      "Sum of numbers is: 9\n"
     ]
    }
   ],
   "source": [
    "#11\n",
    "\n",
    "\n",
    "start = int(input(\"Enter start of range: \"))\n",
    "end = int(input(\"Enter end of range: \"))\n",
    "\n",
    "if start > end:\n",
    "    start, end = end, start\n",
    "\n",
    "total = 0\n",
    "current = start\n",
    "\n",
    "while current <= end:\n",
    "    total += current\n",
    "    current += 1\n",
    "\n",
    "print(f\"Sum of numbers is: {total}\")\n"
   ]
  },
  {
   "cell_type": "code",
   "execution_count": 2,
   "id": "c5e3cae8-d1f5-4a11-8920-1a3ca1c601be",
   "metadata": {},
   "outputs": [
    {
     "name": "stdin",
     "output_type": "stream",
     "text": [
      "Enter starting point of range:  10\n",
      "Enter ending point of range:  15\n"
     ]
    },
    {
     "name": "stdout",
     "output_type": "stream",
     "text": [
      "The product of numbers from 10 to 15 is: 3603600\n"
     ]
    }
   ],
   "source": [
    "# 12\n",
    "\n",
    "\n",
    "start = int(input(\"Enter starting point of range: \"))\n",
    "end = int(input(\"Enter ending point of range: \"))\n",
    "\n",
    "product = 1\n",
    "i = start   \n",
    "\n",
    "while i <= end:\n",
    "    product *= i\n",
    "    i += 1   \n",
    "\n",
    "print(f\"The product of numbers from {start} to {end} is: {product}\")\n"
   ]
  },
  {
   "cell_type": "code",
   "execution_count": 3,
   "id": "df1b3c9d-8ac2-4e59-9b87-a68baf1462fe",
   "metadata": {},
   "outputs": [
    {
     "name": "stdout",
     "output_type": "stream",
     "text": [
      "The greatest character in the string is: y\n"
     ]
    }
   ],
   "source": [
    "# 13\n",
    "\n",
    "\n",
    "string = \"python\"\n",
    "\n",
    "greatest_char = string[0]  \n",
    "i = 1\n",
    "\n",
    "while i < len(string):\n",
    "    if string[i] > greatest_char:\n",
    "        greatest_char = string[i]\n",
    "    i += 1\n",
    "\n",
    "print(\"The greatest character in the string is:\", greatest_char)\n"
   ]
  },
  {
   "cell_type": "code",
   "execution_count": 20,
   "id": "89103987-353d-42ac-b042-0c9026a2b2fc",
   "metadata": {},
   "outputs": [
    {
     "name": "stdin",
     "output_type": "stream",
     "text": [
      "Enter a character to search:  j\n"
     ]
    },
    {
     "name": "stdout",
     "output_type": "stream",
     "text": [
      "The character 'j' is not found in the string.\n"
     ]
    }
   ],
   "source": [
    "# 14\n",
    "\n",
    "string = \"Python is a programming language\"\n",
    "char = input(\"Enter a character to search: \")\n",
    "\n",
    "\n",
    "found = False\n",
    "i = 0\n",
    "while i < len(string):\n",
    "    if string[i] == char:\n",
    "        found = True\n",
    "        print(f\"The character '{char}' is found at position {i}.\")\n",
    "        break   \n",
    "    i += 1\n",
    "\n",
    "if not found:\n",
    "    print(f\"The character '{char}' is not found in the string.\")\n"
   ]
  },
  {
   "cell_type": "code",
   "execution_count": 21,
   "id": "2b05be5a-b814-4a02-b1e3-9ad3efc65b7d",
   "metadata": {},
   "outputs": [
    {
     "name": "stdin",
     "output_type": "stream",
     "text": [
      "Enter a string:  t\n"
     ]
    },
    {
     "name": "stdout",
     "output_type": "stream",
     "text": [
      "Vowels in the string:  \n",
      "Consonants in the string:  t\n"
     ]
    }
   ],
   "source": [
    "# 15\n",
    "\n",
    "\n",
    "\n",
    "text = input(\"Enter a string: \")\n",
    "\n",
    "vowels = \"aeiouAEIOU\"\n",
    "only_vowels = \"\"\n",
    "only_consonants = \"\"\n",
    "\n",
    "i = 0\n",
    "while i < len(text):\n",
    "    if text[i].isalpha():   \n",
    "        if text[i] in vowels:\n",
    "            only_vowels += text[i]\n",
    "        else:\n",
    "            only_consonants += text[i]\n",
    "    i += 1\n",
    "\n",
    "print(\"Vowels in the string: \", only_vowels)\n",
    "print(\"Consonants in the string: \", only_consonants)\n"
   ]
  },
  {
   "cell_type": "code",
   "execution_count": 24,
   "id": "06d17386-085c-4b81-8f95-895db58212ca",
   "metadata": {},
   "outputs": [
    {
     "name": "stdin",
     "output_type": "stream",
     "text": [
      "Enter a string:  tyuytrfdfd\n"
     ]
    },
    {
     "name": "stdout",
     "output_type": "stream",
     "text": [
      "String after removing duplicates: tyurfd\n"
     ]
    }
   ],
   "source": [
    "# 16\n",
    "\n",
    "text = input(\"Enter a string: \")\n",
    "\n",
    "result = \"\" \n",
    "i = 0\n",
    "\n",
    "while i < len(text):\n",
    "    if text[i] not in result:  \n",
    "        result += text[i]\n",
    "    i += 1\n",
    "\n",
    "print(\"String after removing duplicates:\", result)\n"
   ]
  },
  {
   "cell_type": "code",
   "execution_count": 25,
   "id": "65fa3bf8-29dc-44eb-8472-3a15bed40ab0",
   "metadata": {},
   "outputs": [
    {
     "name": "stdout",
     "output_type": "stream",
     "text": [
      "The greatest character in the string is: y\n"
     ]
    }
   ],
   "source": [
    "# 17\n",
    "\n",
    "\n",
    "string = \"python\"\n",
    "\n",
    "greatest_char = string[0] \n",
    "i = 1\n",
    "\n",
    "while i < len(string):\n",
    "    if string[i] > greatest_char:\n",
    "        greatest_char = string[i]\n",
    "    i += 1\n",
    "\n",
    "print(\"The greatest character in the string is:\", greatest_char)\n"
   ]
  },
  {
   "cell_type": "code",
   "execution_count": 27,
   "id": "ff7b74d8-9888-4058-94c4-de2941de4948",
   "metadata": {},
   "outputs": [
    {
     "name": "stdout",
     "output_type": "stream",
     "text": [
      "String after removing 'm' and 'i': Dreaer nfotech\n"
     ]
    }
   ],
   "source": [
    "# 18 \n",
    "\n",
    "string = \"Dreamer Infotech\"\n",
    "result = \"\"\n",
    "\n",
    "i = 0\n",
    "while i < len(string):\n",
    "    if string[i] not in ['m', 'i', 'I']:   \n",
    "        result += string[i] \n",
    "    i += 1\n",
    "\n",
    "print(\"String after removing 'm' and 'i':\", result)\n"
   ]
  },
  {
   "cell_type": "code",
   "execution_count": 28,
   "id": "5e3dbcae-67ad-4db9-bce9-a23af1bc4b6e",
   "metadata": {},
   "outputs": [
    {
     "name": "stdin",
     "output_type": "stream",
     "text": [
      "Enter a string:  rtyuio\n"
     ]
    },
    {
     "name": "stdout",
     "output_type": "stream",
     "text": [
      "Alternate characters are: ryi\n"
     ]
    }
   ],
   "source": [
    "# 19\n",
    "\n",
    "\n",
    "\n",
    "text = input(\"Enter a string: \")\n",
    "\n",
    "i = 0\n",
    "result = \"\"\n",
    "\n",
    "while i < len(text):\n",
    "    result += text[i]   \n",
    "    i += 2              \n",
    "\n",
    "print(\"Alternate characters are:\", result)\n"
   ]
  },
  {
   "cell_type": "code",
   "execution_count": null,
   "id": "fc17c45f-eeb8-406f-be8d-182c04c6700f",
   "metadata": {},
   "outputs": [],
   "source": [
    "# 20\n",
    "\n",
    "\n",
    "\n",
    "text = input(\"Enter a string: \")\n",
    "\n",
    "i = len(text) - 1  \n",
    "reversed_text = \"\"\n",
    "\n",
    "while i >= 0:\n",
    "    reversed_text += text[i]\n",
    "    i -= 1\n",
    "\n",
    "print(\"Reversed string:\", reversed_text)\n"
   ]
  }
 ],
 "metadata": {
  "kernelspec": {
   "display_name": "Python 3 (ipykernel)",
   "language": "python",
   "name": "python3"
  },
  "language_info": {
   "codemirror_mode": {
    "name": "ipython",
    "version": 3
   },
   "file_extension": ".py",
   "mimetype": "text/x-python",
   "name": "python",
   "nbconvert_exporter": "python",
   "pygments_lexer": "ipython3",
   "version": "3.13.7"
  }
 },
 "nbformat": 4,
 "nbformat_minor": 5
}
