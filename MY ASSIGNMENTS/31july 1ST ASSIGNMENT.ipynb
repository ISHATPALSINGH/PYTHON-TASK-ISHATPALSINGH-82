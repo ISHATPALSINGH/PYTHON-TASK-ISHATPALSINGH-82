{
 "cells": [
  {
   "cell_type": "code",
   "execution_count": 3,
   "id": "f93b72a2-e5c1-45a1-ae0c-7b075a8918fc",
   "metadata": {},
   "outputs": [
    {
     "name": "stdout",
     "output_type": "stream",
     "text": [
      "A1\n"
     ]
    }
   ],
   "source": [
    "print(\"A1\")\n"
   ]
  },
  {
   "cell_type": "code",
   "execution_count": 2,
   "id": "c5f0db4c-69d6-4b32-aa3b-5954f060eeb5",
   "metadata": {},
   "outputs": [
    {
     "name": "stdout",
     "output_type": "stream",
     "text": [
      "n1=30 n2=20\n"
     ]
    }
   ],
   "source": [
    "#1. swtich values of 2 integers\n",
    "\n",
    "n1=20\n",
    "n2=30\n",
    "n1=n1+n2\n",
    "n2=n1-n2\n",
    "n1=n1-n2\n",
    "print(f\"n1={n1} n2={n2}\")\n"
   ]
  },
  {
   "cell_type": "code",
   "execution_count": 4,
   "id": "1c3381e3-6d46-4a47-ac29-56abd1cbac6a",
   "metadata": {},
   "outputs": [
    {
     "name": "stdout",
     "output_type": "stream",
     "text": [
      "char1=java char2=hello\n"
     ]
    }
   ],
   "source": [
    "char1= \"hello\"\n",
    "char2=\"java\"\n",
    "temp=char1\n",
    "char1=char2\n",
    "char2=temp\n",
    "print(f\"char1={char1} char2={char2}\")"
   ]
  },
  {
   "cell_type": "code",
   "execution_count": 7,
   "id": "4b204250-2164-451a-b847-b418c0736789",
   "metadata": {},
   "outputs": [
    {
     "name": "stdout",
     "output_type": "stream",
     "text": [
      "n1=java char2=java\n"
     ]
    }
   ],
   "source": [
    "n1=200\n",
    "char2=\"java\"\n",
    "temp=n1\n",
    "n1=char2\n",
    "char2=n1\n",
    "print(f\"n1={n1} char2={char2}\")"
   ]
  },
  {
   "cell_type": "code",
   "execution_count": 15,
   "id": "dafb7925-59d4-461c-bcee-a31bf979ead1",
   "metadata": {},
   "outputs": [
    {
     "name": "stdout",
     "output_type": "stream",
     "text": [
      "After deposit: current_balance = 15000 Before deposit: current_balance = 10000\n"
     ]
    }
   ],
   "source": [
    "current_balance=10000\n",
    "deposit_balance=5000\n",
    "res=current_balance+deposit_balance\n",
    "print(f\"After deposit: current_balance = {res} Before deposit: current_balance = {current_balance}\")\n"
   ]
  },
  {
   "cell_type": "code",
   "execution_count": 19,
   "id": "a7a45d01-c8a3-462e-83ee-d81599c17186",
   "metadata": {},
   "outputs": [
    {
     "name": "stdout",
     "output_type": "stream",
     "text": [
      "12000\n"
     ]
    }
   ],
   "source": [
    "balance=15000\n",
    "withdrawl=3000\n",
    "res=balance-withdrawl\n",
    "print(res)"
   ]
  },
  {
   "cell_type": "code",
   "execution_count": 20,
   "id": "6e57ec5f-aa0f-4ca2-bce9-afcbf8cc9107",
   "metadata": {},
   "outputs": [
    {
     "name": "stdout",
     "output_type": "stream",
     "text": [
      "8\n"
     ]
    }
   ],
   "source": [
    "cart_items=5\n",
    "items_added=3\n",
    "res=cart_items+items_added\n",
    "print(res)"
   ]
  },
  {
   "cell_type": "code",
   "execution_count": 25,
   "id": "c0f4c53f-1782-44ff-b09f-e6b21a2a027a",
   "metadata": {},
   "outputs": [
    {
     "name": "stdout",
     "output_type": "stream",
     "text": [
      "800.0\n"
     ]
    }
   ],
   "source": [
    "price=1000\n",
    "discount=20\n",
    "res=price/100*80\n",
    "print(res)"
   ]
  },
  {
   "cell_type": "code",
   "execution_count": 33,
   "id": "92c4954c-01f8-4349-8907-49ff9637e575",
   "metadata": {},
   "outputs": [
    {
     "name": "stdout",
     "output_type": "stream",
     "text": [
      "1050\n",
      "262.5\n"
     ]
    }
   ],
   "source": [
    "subject1=800\n",
    "subject2=75\n",
    "subject3=90\n",
    "subject4=85\n",
    "res1=subject1+subject2+subject3+subject4\n",
    "print(res1)\n",
    "res2=res1/4\n",
    "print(res2)"
   ]
  },
  {
   "cell_type": "code",
   "execution_count": 34,
   "id": "71b70488-e86e-454f-b386-9f3295cf6fb5",
   "metadata": {},
   "outputs": [
    {
     "name": "stdout",
     "output_type": "stream",
     "text": [
      "75.0\n"
     ]
    }
   ],
   "source": [
    "num1 = 25\n",
    "num2 = 35 \n",
    "num3 = 45\n",
    "res=num1+num2+num3/3\n",
    "print(res)"
   ]
  },
  {
   "cell_type": "code",
   "execution_count": 42,
   "id": "02c58ef9-ff5f-4a85-b6be-ac15f0991073",
   "metadata": {},
   "outputs": [
    {
     "name": "stdout",
     "output_type": "stream",
     "text": [
      "100\n",
      "True\n"
     ]
    }
   ],
   "source": [
    "cost_price = 500\n",
    "selling_price = 600\n",
    "res=selling_price-cost_price\n",
    "print(res)\n",
    "profit=selling_price>cost_price\n",
    "loss=cost_price>selling_price\n",
    "res=profit or loss\n",
    "print(res)"
   ]
  },
  {
   "cell_type": "code",
   "execution_count": 44,
   "id": "44822cbc-8dd1-44b6-af88-1e76d0d5c16f",
   "metadata": {},
   "outputs": [
    {
     "name": "stdout",
     "output_type": "stream",
     "text": [
      "1000.0\n"
     ]
    }
   ],
   "source": [
    "principal = 10000\n",
    "rate = 5\n",
    "time = 2\n",
    "simple_interest=principal*rate*time/100\n",
    "res=simple_interest\n",
    "print(res)"
   ]
  },
  {
   "cell_type": "code",
   "execution_count": 47,
   "id": "b521510c-a0fc-4bf6-9aa0-ed0d546422bb",
   "metadata": {},
   "outputs": [
    {
     "name": "stdout",
     "output_type": "stream",
     "text": [
      "1025.0\n"
     ]
    }
   ],
   "source": [
    "principal = 10000\n",
    "rate = 5\n",
    "time=2\n",
    "compound_interest=principal*(1+rate/100)**time-principal\n",
    "print(compound_interest)"
   ]
  },
  {
   "cell_type": "code",
   "execution_count": 51,
   "id": "a1fbb589-1d8f-49a6-ad0e-a71ce7ca3b1c",
   "metadata": {},
   "outputs": [
    {
     "name": "stdout",
     "output_type": "stream",
     "text": [
      "50000.0\n"
     ]
    }
   ],
   "source": [
    "income = 500000\n",
    "tax_rate = 10\n",
    "tax=income/tax_rate\n",
    "print(tax)\n"
   ]
  },
  {
   "cell_type": "code",
   "execution_count": 57,
   "id": "57e06a1e-a8a3-4d8d-8930-23b898121398",
   "metadata": {},
   "outputs": [
    {
     "name": "stdout",
     "output_type": "stream",
     "text": [
      "50\n",
      "25.0\n"
     ]
    }
   ],
   "source": [
    "initial_value = 200\n",
    "final_value = 250\n",
    "res=final_value-initial_value\n",
    "print(res)\n",
    "res2=res/initial_value*100\n",
    "print(res2)"
   ]
  },
  {
   "cell_type": "code",
   "execution_count": 59,
   "id": "5c010c39-bb0d-4007-984e-3681be0c0f02",
   "metadata": {},
   "outputs": [
    {
     "name": "stdout",
     "output_type": "stream",
     "text": [
      "1\n"
     ]
    }
   ],
   "source": [
    "boolean_value=True\n",
    "int_value=int(boolean_value)\n",
    "print(int_value)"
   ]
  },
  {
   "cell_type": "code",
   "execution_count": 61,
   "id": "2c3a0144-d48e-405e-b3e6-a4c9ce1ea468",
   "metadata": {},
   "outputs": [
    {
     "name": "stdout",
     "output_type": "stream",
     "text": [
      "45.67\n"
     ]
    }
   ],
   "source": [
    "float_value=45.67\n",
    "string_value=str(float_value)\n",
    "print(string_value)"
   ]
  },
  {
   "cell_type": "code",
   "execution_count": 69,
   "id": "5b7d694b-05e9-42b9-841d-4a6be2d35638",
   "metadata": {},
   "outputs": [
    {
     "name": "stdout",
     "output_type": "stream",
     "text": [
      "68.0\n"
     ]
    }
   ],
   "source": [
    "#19.Convert 20°C to Fahrenheit\n",
    "celsius=20\n",
    "fahrenheit=celsius*9/5+32\n",
    "print(fahrenheit)\n"
   ]
  },
  {
   "cell_type": "code",
   "execution_count": 68,
   "id": "39f417f6-840e-4393-8acd-2ad3b175b92a",
   "metadata": {},
   "outputs": [
    {
     "name": "stdout",
     "output_type": "stream",
     "text": [
      "50°F is equal to 10.0°C\n"
     ]
    }
   ],
   "source": [
    "#Convert 50°F to Celsius\n",
    "fahrenheit=50\n",
    "celsius=(fahrenheit-32)*5/9\n",
    "print(f\"{fahrenheit}°F is equal to {celsius}°C\")"
   ]
  },
  {
   "cell_type": "code",
   "execution_count": 70,
   "id": "3a7d3b7a-b85d-4d2e-abcc-0b2802a8f0db",
   "metadata": {},
   "outputs": [
    {
     "name": "stdout",
     "output_type": "stream",
     "text": [
      "0b11001\n"
     ]
    }
   ],
   "source": [
    "#21.Convert integer to binary\n",
    "integer_value=25\n",
    "binary_value=bin(integer_value)\n",
    "print(binary_value)"
   ]
  },
  {
   "cell_type": "code",
   "execution_count": 71,
   "id": "507b588f-e312-467c-8d58-d72c885ba867",
   "metadata": {},
   "outputs": [
    {
     "name": "stdout",
     "output_type": "stream",
     "text": [
      "30.0\n"
     ]
    }
   ],
   "source": [
    "#Calculate area of a triangle\n",
    "base_value=10\n",
    "height_value=6\n",
    "area=1/2*base_value*height_value\n",
    "print(area)"
   ]
  },
  {
   "cell_type": "code",
   "execution_count": 72,
   "id": "1f34a953-5f28-4d73-b1dd-13794cf54324",
   "metadata": {},
   "outputs": [
    {
     "name": "stdout",
     "output_type": "stream",
     "text": [
      "36\n"
     ]
    }
   ],
   "source": [
    "#.Calculate perimeter of a square\n",
    "side=9\n",
    "perimeter_value=4*side\n",
    "print(perimeter_value)"
   ]
  },
  {
   "cell_type": "code",
   "execution_count": 73,
   "id": "db7a06b9-f742-4d8d-aca2-8a986ead6cfa",
   "metadata": {},
   "outputs": [
    {
     "name": "stdout",
     "output_type": "stream",
     "text": [
      "28\n"
     ]
    }
   ],
   "source": [
    "# Calculate diameter of a circle\n",
    "radius_value=14\n",
    "diameter_value=2*radius_value\n",
    "print(diameter_value)"
   ]
  },
  {
   "cell_type": "code",
   "execution_count": 75,
   "id": "805baf75-4632-436a-a0c7-59e666a55421",
   "metadata": {},
   "outputs": [
    {
     "name": "stdout",
     "output_type": "stream",
     "text": [
      "125\n"
     ]
    }
   ],
   "source": [
    "# Calculate volume of a cube\n",
    "side_value=5\n",
    "volume_value=side_value**3\n",
    "print(volume_value)"
   ]
  },
  {
   "cell_type": "code",
   "execution_count": 78,
   "id": "fc9e2c6e-c4a2-4714-a944-12355d67d2c9",
   "metadata": {},
   "outputs": [
    {
     "name": "stdout",
     "output_type": "stream",
     "text": [
      "52\n"
     ]
    }
   ],
   "source": [
    "# Calculate surface area of a cuboid\n",
    "length_value=4\n",
    "base_value=3\n",
    "height_value=2\n",
    "area=2*(length_value*base_value+base_value*height_value+height_value*length_value)\n",
    "print(area)"
   ]
  },
  {
   "cell_type": "code",
   "execution_count": 79,
   "id": "aaefbac0-d959-4e70-a49c-16851c6d3465",
   "metadata": {},
   "outputs": [
    {
     "name": "stdout",
     "output_type": "stream",
     "text": [
      "144\n"
     ]
    }
   ],
   "source": [
    "# Square of sum: (x + y)2\n",
    "x=5\n",
    "y=7\n",
    "sum=x**2+y**2+2*x*y\n",
    "print(sum)"
   ]
  },
  {
   "cell_type": "code",
   "execution_count": 91,
   "id": "c2d15eea-9454-489e-bf6e-cb3a7e952351",
   "metadata": {},
   "outputs": [
    {
     "name": "stdout",
     "output_type": "stream",
     "text": [
      "1\n"
     ]
    }
   ],
   "source": [
    "#.Simplify expression: x2 - 4x + 4\n",
    "x=3\n",
    "res=(x-2)**2\n",
    "print(res)"
   ]
  },
  {
   "cell_type": "code",
   "execution_count": 81,
   "id": "de33c84d-1d46-4f8f-b6c3-6455edc0e9db",
   "metadata": {},
   "outputs": [
    {
     "name": "stdout",
     "output_type": "stream",
     "text": [
      "32\n"
     ]
    }
   ],
   "source": [
    "#(a + b)(a - b)\n",
    "a=6\n",
    "b=2\n",
    "res=a**2-b**2\n",
    "print(res)"
   ]
  },
  {
   "cell_type": "code",
   "execution_count": 85,
   "id": "b3ff37d1-355f-4f0b-b2bb-f250f3393d07",
   "metadata": {},
   "outputs": [
    {
     "name": "stdout",
     "output_type": "stream",
     "text": [
      "9\n"
     ]
    }
   ],
   "source": [
    "# Sum of cubes: a3 + b3\n",
    "a=1\n",
    "b=2\n",
    "res=(a+b)*(a**2+b**2-a*b)\n",
    "print(res)"
   ]
  },
  {
   "cell_type": "code",
   "execution_count": 88,
   "id": "f7d1a3b3-aad5-40fe-9183-5309c89fc5cf",
   "metadata": {},
   "outputs": [
    {
     "name": "stdout",
     "output_type": "stream",
     "text": [
      "16\n"
     ]
    }
   ],
   "source": [
    "#Simplify: (x - y)2\n",
    "x = 10 \n",
    "y = 6\n",
    "res=x**2+y**2-2*x*y\n",
    "print(res)"
   ]
  },
  {
   "cell_type": "code",
   "execution_count": 90,
   "id": "3f2f2cfc-4423-4bf5-8315-49cc932f761e",
   "metadata": {},
   "outputs": [
    {
     "name": "stdout",
     "output_type": "stream",
     "text": [
      "63\n"
     ]
    }
   ],
   "source": [
    "# Difference of cubes: x3 - y3\n",
    "x=4\n",
    "y=1\n",
    "res=(x-y)*(x**2+y**2+x*y)\n",
    "print(res)"
   ]
  },
  {
   "cell_type": "code",
   "execution_count": 6,
   "id": "69766c57-3657-4970-9196-1ff95e094a8b",
   "metadata": {},
   "outputs": [
    {
     "name": "stdin",
     "output_type": "stream",
     "text": [
      "Input Name : > rocky\n",
      "Input Profession : > singing\n",
      "Input Favorite_Quote : > abc\n",
      "Input Years of Experience : > 5\n"
     ]
    },
    {
     "name": "stdout",
     "output_type": "stream",
     "text": [
      "my name rocky Profession singing, abc and 5 \n"
     ]
    }
   ],
   "source": [
    "Full_Name = input(\"Input Name : >\")\n",
    "Profession =input(\"Input Profession : >\")\n",
    "Favorite_Quote= input(\"Input Favorite_Quote : >\")\n",
    "Years_of_Experience=input(\"Input Years of Experience : >\")\n",
    "\n",
    "print(f\"my name {Full_Name} Profession {Profession}, {Favorite_Quote} and {Years_of_Experience} \")"
   ]
  },
  {
   "cell_type": "code",
   "execution_count": 11,
   "id": "cd79dd4c-b8eb-4de5-88c2-37416feb8f89",
   "metadata": {},
   "outputs": [
    {
     "name": "stdin",
     "output_type": "stream",
     "text": [
      "Enter Movie name jurrasic park\n",
      "Enter Viewer Name ram\n",
      " Enter Seat number 65\n",
      "Enter Show Time 12\n"
     ]
    },
    {
     "name": "stdout",
     "output_type": "stream",
     "text": [
      "Movie Name is jurrasic park, Viewer Name is ram Seat Number 65 and Show Time 12\n"
     ]
    }
   ],
   "source": [
    "Movie_Name= input(\"Enter Movie name\")\n",
    "Viewer_Name= input(\"Enter Viewer Name\")\n",
    "Seat_Number= int(input(\" Enter Seat number\"))\n",
    "Show_Time=int(input(\"Enter Show Time\"))\n",
    "\n",
    "print(f\"Movie Name is {Movie_Name}, Viewer Name is {Viewer_Name} Seat Number {Seat_Number} and Show Time {Show_Time}\")"
   ]
  },
  {
   "cell_type": "code",
   "execution_count": null,
   "id": "9b5f20ed-cb16-4841-81f1-eeba366db039",
   "metadata": {},
   "outputs": [],
   "source": []
  }
 ],
 "metadata": {
  "kernelspec": {
   "display_name": "Python 3 (ipykernel)",
   "language": "python",
   "name": "python3"
  },
  "language_info": {
   "codemirror_mode": {
    "name": "ipython",
    "version": 3
   },
   "file_extension": ".py",
   "mimetype": "text/x-python",
   "name": "python",
   "nbconvert_exporter": "python",
   "pygments_lexer": "ipython3",
   "version": "3.13.5"
  }
 },
 "nbformat": 4,
 "nbformat_minor": 5
}
