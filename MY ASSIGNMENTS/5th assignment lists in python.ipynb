{
 "cells": [
  {
   "cell_type": "code",
   "execution_count": 1,
   "id": "34dff2c9-1f1b-410c-b550-46262425c6bb",
   "metadata": {},
   "outputs": [
    {
     "name": "stdout",
     "output_type": "stream",
     "text": [
      "Sum of elements: 150\n"
     ]
    }
   ],
   "source": [
    "# 1\n",
    "\n",
    "numbers = [10, 20, 30, 40, 50]\n",
    "total = 0\n",
    "\n",
    "\n",
    "while numbers:\n",
    "    total = total + numbers.pop()\n",
    "\n",
    "print(\"Sum of elements:\", total)\n"
   ]
  },
  {
   "cell_type": "code",
   "execution_count": 3,
   "id": "5afbbbd4-42ab-454e-b4a2-decb4f0f4da7",
   "metadata": {},
   "outputs": [
    {
     "name": "stdout",
     "output_type": "stream",
     "text": [
      "Even numbers: [10, 12, 44, 2, 6]\n",
      "Odd numbers: [23, 11, 33, 5]\n"
     ]
    }
   ],
   "source": [
    "# 2\n",
    "\n",
    "numbers = [10, 23, 11, 12, 33, 44, 2, 5, 6]\n",
    "\n",
    "\n",
    "odd_numbers = []\n",
    "even_numbers = []\n",
    "\n",
    "\n",
    "for num in numbers:\n",
    "    if num % 2 == 0:  \n",
    "        even_numbers.append(num)\n",
    "    else:            \n",
    "        odd_numbers.append(num)\n",
    "\n",
    "\n",
    "print(\"Even numbers:\", even_numbers)\n",
    "print(\"Odd numbers:\", odd_numbers)\n",
    "\n",
    "\n"
   ]
  },
  {
   "cell_type": "code",
   "execution_count": 2,
   "id": "3b4255eb-1f83-45dd-9b9d-ffa97be8890c",
   "metadata": {},
   "outputs": [
    {
     "name": "stdout",
     "output_type": "stream",
     "text": [
      "Count of even numbers: 5\n",
      "Count of odd numbers: 4\n"
     ]
    }
   ],
   "source": [
    "# 3\n",
    "numbers = [10, 23, 11, 12, 33, 44, 2, 5, 6]\n",
    "\n",
    "even_count = len([n for n in numbers if n % 2 == 0])\n",
    "odd_count = len([n for n in numbers if n % 2 != 0])\n",
    "\n",
    "print(\"Count of even numbers:\", even_count)\n",
    "print(\"Count of odd numbers:\", odd_count)\n",
    "\n"
   ]
  },
  {
   "cell_type": "code",
   "execution_count": 5,
   "id": "9e32217c-c936-4fbf-939e-cee40d83c076",
   "metadata": {},
   "outputs": [
    {
     "name": "stdout",
     "output_type": "stream",
     "text": [
      "List after interchanging first and last elements: [6, 23, 11, 12, 33, 44, 2, 5, 10]\n"
     ]
    }
   ],
   "source": [
    "## 4\n",
    "numbers = [10, 23, 11, 12, 33, 44, 2, 5, 6]\n",
    "\n",
    "numbers[0], numbers[-1] = numbers[-1], numbers[0]\n",
    "\n",
    "print(\"List after interchanging first and last elements:\", numbers)\n"
   ]
  },
  {
   "cell_type": "code",
   "execution_count": 9,
   "id": "8f22fbec-3204-4160-b17e-39c1fcd98192",
   "metadata": {},
   "outputs": [
    {
     "name": "stdout",
     "output_type": "stream",
     "text": [
      "Output: [1, 2, 3, 1, 2, 3, 1, 2, 3]\n"
     ]
    }
   ],
   "source": [
    "# 5\n",
    "\n",
    "li = [1, 2, 3]\n",
    "\n",
    "\n",
    "output = []\n",
    "\n",
    "\n",
    "for _ in range(3):\n",
    "    output.extend(li) \n",
    "\n",
    "print(\"Output:\", output)\n"
   ]
  },
  {
   "cell_type": "code",
   "execution_count": 10,
   "id": "9b1189f9-7f33-43f5-98fa-39155a56ae1a",
   "metadata": {},
   "outputs": [
    {
     "name": "stdout",
     "output_type": "stream",
     "text": [
      "The smallest element is: 2\n"
     ]
    }
   ],
   "source": [
    "# 6\n",
    "numbers = [10, 23, 11, 12, 33, 44, 2, 5, 6]\n",
    "\n",
    "smallest = min(numbers)\n",
    "\n",
    "print(\"The smallest element is:\", smallest)\n"
   ]
  },
  {
   "cell_type": "code",
   "execution_count": 16,
   "id": "00ea1fea-498b-4558-9ccb-4b33810b33b8",
   "metadata": {},
   "outputs": [
    {
     "name": "stdout",
     "output_type": "stream",
     "text": [
      "The greatest element is: 89\n"
     ]
    }
   ],
   "source": [
    "# 7 \n",
    "\n",
    "numbers= [89, 23, 24, 2, 55, 54, 64]\n",
    "\n",
    "greatest = max(numbers)\n",
    "\n",
    "print(\"The greatest element is:\" , greatest)"
   ]
  },
  {
   "cell_type": "code",
   "execution_count": 4,
   "id": "d56f6da7-cdc8-4f16-b020-4192ca5f8fa0",
   "metadata": {},
   "outputs": [
    {
     "name": "stdout",
     "output_type": "stream",
     "text": [
      "Repetitive elements: [56, 1, 23]\n"
     ]
    }
   ],
   "source": [
    "#8\n",
    "\n",
    "li = [1, 2, 3, 4, 56, 1, 22, 23, 33, 23, 56]\n",
    "\n",
    "seen = set()\n",
    "duplicates = set()\n",
    "\n",
    "for i in li:\n",
    "    if i in seen:\n",
    "        duplicates.add(i)\n",
    "    else:\n",
    "        seen.add(i)\n",
    "\n",
    "print(\"Repetitive elements:\", list(duplicates))\n",
    "\n"
   ]
  },
  {
   "cell_type": "code",
   "execution_count": 5,
   "id": "a455a80c-82d1-4e70-a3b1-5eb7abcf2850",
   "metadata": {},
   "outputs": [
    {
     "name": "stdout",
     "output_type": "stream",
     "text": [
      "After removing odd numbers: [10, 12, 44, 2, 6]\n"
     ]
    }
   ],
   "source": [
    "# 9\n",
    "\n",
    "numbers = [10, 23, 11, 12, 33, 44, 2, 5, 6]\n",
    "\n",
    "\n",
    "result = [n for n in numbers if n % 2 == 0]\n",
    "\n",
    "print(\"After removing odd numbers:\", result)\n"
   ]
  },
  {
   "cell_type": "code",
   "execution_count": 8,
   "id": "a4aa6f0c-73c4-4fe3-8051-3f58ba43cab8",
   "metadata": {},
   "outputs": [
    {
     "name": "stdout",
     "output_type": "stream",
     "text": [
      "Non-repetitive elements: [2, 3, 4, 22, 33]\n"
     ]
    }
   ],
   "source": [
    "# 10\n",
    "\n",
    "li = [1, 2, 3, 4, 56, 1, 22, 23, 33, 23, 56]\n",
    "\n",
    "non_repetitive = li.copy()   \n",
    "\n",
    "for i in li:\n",
    "    if li.count(i) > 1:     \n",
    "       \n",
    "        while i in non_repetitive:\n",
    "            non_repetitive.remove(i)  \n",
    "\n",
    "print(\"Non-repetitive elements:\", non_repetitive)\n"
   ]
  },
  {
   "cell_type": "code",
   "execution_count": 12,
   "id": "24055e1e-b4d6-4f78-b215-7815e16b30cd",
   "metadata": {},
   "outputs": [
    {
     "name": "stdout",
     "output_type": "stream",
     "text": [
      "Output: [1, 2, 3, 1, 2, 3, 1, 2, 3]\n"
     ]
    }
   ],
   "source": [
    "# 11\n",
    "\n",
    "li = [1, 2, 3]\n",
    "\n",
    "\n",
    "output = []\n",
    "\n",
    "\n",
    "for _ in range(3):\n",
    "    output.extend(li) \n",
    "\n",
    "print(\"Output:\", output)"
   ]
  },
  {
   "cell_type": "code",
   "execution_count": 21,
   "id": "9cff576c-a058-499f-822b-32a508fa5f8f",
   "metadata": {},
   "outputs": [
    {
     "name": "stdout",
     "output_type": "stream",
     "text": [
      "64\n"
     ]
    }
   ],
   "source": [
    "# 12\n",
    "\n",
    "nums = [89, 23, 24, 2, 55, 54, 64]\n",
    "\n",
    "nums.sort()        \n",
    "second_greatest = nums[-2]   \n",
    "\n",
    "print(second_greatest)\n"
   ]
  },
  {
   "cell_type": "code",
   "execution_count": 22,
   "id": "eb48953a-1a93-4dc8-b61a-4279e6e5ff72",
   "metadata": {},
   "outputs": [
    {
     "name": "stdout",
     "output_type": "stream",
     "text": [
      "[56, 23, 33, 23, 22, 1, 56, 4, 3, 2, 1]\n"
     ]
    }
   ],
   "source": [
    "# 13\n",
    "\n",
    "lst = [1, 2, 3, 4, 56, 1, 22, 23, 33, 23, 56]\n",
    "lst.reverse()\n",
    "print(lst)\n"
   ]
  },
  {
   "cell_type": "code",
   "execution_count": 23,
   "id": "1a422eac-614f-4f22-b9e2-8b64f9505586",
   "metadata": {},
   "outputs": [
    {
     "name": "stdout",
     "output_type": "stream",
     "text": [
      "[1, 1, 2, 3, 4, 22, 23, 23, 33, 56, 56]\n"
     ]
    }
   ],
   "source": [
    "# 14\n",
    "\n",
    "\n",
    "lst = [1, 2, 3, 4, 56, 1, 22, 23, 33, 23, 56]\n",
    "lst.sort()\n",
    "print(lst)  # [1, 1, 2, 3, 4, 22, 23, 23, 33, 56, 56]\n"
   ]
  },
  {
   "cell_type": "code",
   "execution_count": 24,
   "id": "5eb173e9-952e-4768-abe3-073aac93374c",
   "metadata": {},
   "outputs": [
    {
     "name": "stdout",
     "output_type": "stream",
     "text": [
      "[56, 56, 33, 23, 23, 22, 4, 3, 2, 1, 1]\n"
     ]
    }
   ],
   "source": [
    "#15 \n",
    "\n",
    "lst = [1, 2, 3, 4, 56, 1, 22, 23, 33, 23, 56]\n",
    "lst.sort()        \n",
    "lst.reverse()     \n",
    "print(lst)        \n"
   ]
  },
  {
   "cell_type": "code",
   "execution_count": 27,
   "id": "ff5c2d59-3ee7-483a-809c-a977ca60504a",
   "metadata": {},
   "outputs": [
    {
     "name": "stdout",
     "output_type": "stream",
     "text": [
      "['e', 'a', 'e', 'i', 'o', 'e']\n"
     ]
    }
   ],
   "source": [
    "#16\n",
    "\n",
    "words = [\"Dreamer\", \"infotech\"]\n",
    "vowels = list(\"aeiouAEIOU\")\n",
    "\n",
    "found = []\n",
    "for s in words:\n",
    "    found.extend([ch.lower() for ch in s if ch in vowels])\n",
    "\n",
    "print(found)  \n",
    "\n"
   ]
  },
  {
   "cell_type": "code",
   "execution_count": null,
   "id": "deda165e-0fa7-45b9-95d2-05cdac25e9dd",
   "metadata": {},
   "outputs": [],
   "source": [
    "# 17\n",
    "\n",
    "elements = []\n",
    "for i in range(5):\n",
    "    item = input(f\"Enter element {i+1}: \")\n",
    "    elements.append(item)\n",
    "    if i < 4:\n",
    "        more = input(\"Add another? (y/n): \").strip().lower()\n",
    "        if more == \"n\":\n",
    "            break\n",
    "\n",
    "print(\"Your list:\", elements)\n",
    "\n",
    "\n"
   ]
  },
  {
   "cell_type": "code",
   "execution_count": null,
   "id": "cbc691c4-21e6-43fa-84c1-2ed8650db634",
   "metadata": {},
   "outputs": [],
   "source": [
    "# 18 \n",
    "\n",
    "nums = [x for x in range(10, 0, -1)]\n",
    "print(nums)  # [10, 9, 8, 7, 6, 5, 4, 3, 2, 1]\n"
   ]
  },
  {
   "cell_type": "code",
   "execution_count": 6,
   "id": "13180414-645e-4abf-a55e-5a8295b0eb24",
   "metadata": {},
   "outputs": [
    {
     "name": "stdout",
     "output_type": "stream",
     "text": [
      "[1, 4, 9, 16, 25, 36, 49, 64, 81, 100]\n"
     ]
    }
   ],
   "source": [
    "#19\n",
    "squares = []\n",
    "for x in range(1, 11):\n",
    "    squares.append(x**2)\n",
    "print(squares) \n",
    "\n"
   ]
  },
  {
   "cell_type": "code",
   "execution_count": 7,
   "id": "aa9ab9ac-9898-4b45-9dc9-50f8a2964f3e",
   "metadata": {},
   "outputs": [
    {
     "name": "stdout",
     "output_type": "stream",
     "text": [
      "[2, 4, 6, 8, 10]\n"
     ]
    }
   ],
   "source": [
    "# 20\n",
    "\n",
    "evens = [n for n in range(2, 11, 2)]\n",
    "print(evens)  \n"
   ]
  },
  {
   "cell_type": "code",
   "execution_count": null,
   "id": "b01bee8e-8129-4495-82a9-bbe5402312c4",
   "metadata": {},
   "outputs": [],
   "source": [
    "# 21\n",
    "\n"
   ]
  }
 ],
 "metadata": {
  "kernelspec": {
   "display_name": "Python 3 (ipykernel)",
   "language": "python",
   "name": "python3"
  },
  "language_info": {
   "codemirror_mode": {
    "name": "ipython",
    "version": 3
   },
   "file_extension": ".py",
   "mimetype": "text/x-python",
   "name": "python",
   "nbconvert_exporter": "python",
   "pygments_lexer": "ipython3",
   "version": "3.13.7"
  }
 },
 "nbformat": 4,
 "nbformat_minor": 5
}
