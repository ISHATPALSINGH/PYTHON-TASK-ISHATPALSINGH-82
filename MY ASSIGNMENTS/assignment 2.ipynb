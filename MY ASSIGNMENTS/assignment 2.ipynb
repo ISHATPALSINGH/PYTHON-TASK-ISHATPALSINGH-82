{
 "cells": [
  {
   "cell_type": "code",
   "execution_count": 26,
   "id": "b5d6e966-7909-4829-99a4-f2ecba971edd",
   "metadata": {},
   "outputs": [
    {
     "name": "stdin",
     "output_type": "stream",
     "text": [
      "Enter the Cost Price:  123\n",
      "Enter the Selling Price:  234\n"
     ]
    },
    {
     "name": "stdout",
     "output_type": "stream",
     "text": [
      "You made a profit of Rs. 111.00 (90.24%).\n"
     ]
    }
   ],
   "source": [
    "####         11111\n",
    "\n",
    "cost_price = float(input(\"Enter the Cost Price: \"))\n",
    "selling_price = float(input(\"Enter the Selling Price: \"))\n",
    "if selling_price > cost_price:\n",
    "    profit = selling_price - cost_price\n",
    "    profit_percentage = (profit / cost_price) * 100\n",
    "    print(f\"You made a profit of Rs. {profit:.2f} ({profit_percentage:.2f}%).\")\n",
    "elif selling_price < cost_price:\n",
    "    loss = cost_price - selling_price\n",
    "    loss_percentage = (loss / cost_price) * 100\n",
    "    print(f\"You incurred a loss of Rs. {loss:.2f} ({loss_percentage:.2f}%).\")\n",
    "\n"
   ]
  },
  {
   "cell_type": "code",
   "execution_count": 25,
   "id": "88aea5d3-d927-40f1-8a84-f8fddee42b7e",
   "metadata": {},
   "outputs": [
    {
     "name": "stdout",
     "output_type": "stream",
     "text": [
      "--- Enter Runs Scored by Each Player ---\n"
     ]
    },
    {
     "name": "stdin",
     "output_type": "stream",
     "text": [
      "Enter runs for Player 1:  66\n",
      "Enter runs for Player 2:  76\n",
      "Enter runs for Player 3:  55\n",
      "Enter runs for Player 4:  45\n",
      "Enter runs for Player 5:  67\n"
     ]
    },
    {
     "name": "stdout",
     "output_type": "stream",
     "text": [
      "\n",
      "--- Team Performance ---\n",
      "Total runs scored by the team: 67\n",
      "Average runs per player: 13.40\n"
     ]
    }
   ],
   "source": [
    "#####                  222222\n",
    "\n",
    "total_runs = 0\n",
    "num_players = 5\n",
    "print(\"--- Enter Runs Scored by Each Player ---\")\n",
    "for i in range(1, num_players + 1):\n",
    "            runs = int(input(f\"Enter runs for Player {i}: \"))\n",
    "if runs < 0:\n",
    "    print(\"Runs cannot be negative. Please enter a valid score.\")\n",
    "total_runs= total_runs + runs\n",
    "average_runs = total_runs / num_players\n",
    "print(\"\\n--- Team Performance ---\")\n",
    "print(f\"Total runs scored by the team: {total_runs}\")\n",
    "print(f\"Average runs per player: {average_runs:.2f}\")\n"
   ]
  },
  {
   "cell_type": "code",
   "execution_count": 3,
   "id": "01608296-a20a-47d8-b508-06ef89502d9c",
   "metadata": {},
   "outputs": [
    {
     "name": "stdin",
     "output_type": "stream",
     "text": [
      "Please enter your current age:  45\n"
     ]
    },
    {
     "name": "stdout",
     "output_type": "stream",
     "text": [
      "You have 20 years left until you can retire.\n"
     ]
    }
   ],
   "source": [
    "######             33333\n",
    "\n",
    "RETIREMENT_AGE = 65 \n",
    "current_age = int(input(\"Please enter your current age: \"))\n",
    "if current_age < 0:\n",
    "    print(\"Error: Age cannot be a negative number. Please try again.\")\n",
    "else:\n",
    "    if current_age < RETIREMENT_AGE:\n",
    "        years_left = RETIREMENT_AGE - current_age\n",
    "        print(f\"You have {years_left} years left until you can retire.\")\n",
    "    else:\n",
    "         print(\"Congratulations! 🎉 You have already reached retirement age.\")\n",
    "           "
   ]
  },
  {
   "cell_type": "code",
   "execution_count": 29,
   "id": "23586970-dda6-4f7d-bdca-8a3c5f9f4dda",
   "metadata": {},
   "outputs": [
    {
     "name": "stdin",
     "output_type": "stream",
     "text": [
      "Please enter the radius of the circle:  14\n"
     ]
    },
    {
     "name": "stdout",
     "output_type": "stream",
     "text": [
      "The area of the circle with radius 14.0 is: 615.44\n"
     ]
    }
   ],
   "source": [
    "####             4444444\n",
    "\n",
    "radius = float(input(\"Please enter the radius of the circle: \"))   \n",
    "# value of pie = 3.14\n",
    "area = 3.14* radius ** 2 \n",
    "print(f\"The area of the circle with radius {radius} is: {area:.2f}\")"
   ]
  },
  {
   "cell_type": "code",
   "execution_count": 28,
   "id": "2aadfe6a-6280-4940-99b1-eaef73bf3ab0",
   "metadata": {},
   "outputs": [
    {
     "name": "stdout",
     "output_type": "stream",
     "text": [
      "Gross Salary:55000\n",
      "Gross Salary Tax: 5500.0\n",
      "Net Salary: 47500.0\n"
     ]
    }
   ],
   "source": [
    "#####  5555555\n",
    "\n",
    "BASE_SALARY=50000\n",
    "BONUS=5000\n",
    "gross_salary = BASE_SALARY + BONUS  \n",
    "TAX_RATE=10\n",
    "\n",
    "gross_salary_tax = gross_salary /TAX_RATE \n",
    "OTHER_CHARGES=2000\n",
    "net_salary = gross_salary - gross_salary_tax - OTHER_CHARGES\n",
    "\n",
    "print(f\"Gross Salary:{gross_salary:}\")  \n",
    "print(f\"Gross Salary Tax: {gross_salary_tax:}\") \n",
    "print(f\"Net Salary: {net_salary:}\")  "
   ]
  },
  {
   "cell_type": "code",
   "execution_count": 1,
   "id": "8aea3b6b-f602-4d87-846d-325b6681790b",
   "metadata": {},
   "outputs": [
    {
     "name": "stdin",
     "output_type": "stream",
     "text": [
      "Enter your age:  23\n",
      "Enter your monthly income (in ₹):  34444\n",
      "Enter your credit score (e.g., 750):  567\n",
      "Enter your total outstanding debt (in ₹):  4566\n"
     ]
    },
    {
     "name": "stdout",
     "output_type": "stream",
     "text": [
      "\n",
      "We're sorry. Your loan application has been Rejected .\n",
      "\n",
      "Error: Invalid input. Please enter valid numbers for all fields and try again.\n"
     ]
    }
   ],
   "source": [
    "#####  666666\n",
    "age = int(input(\"Enter your age: \"))\n",
    "monthly_income = int(input(\"Enter your monthly income (in ₹): \"))\n",
    "credit_score = int(input(\"Enter your credit score (e.g., 750): \"))\n",
    "outstanding_debt = int(input(\"Enter your total outstanding debt (in ₹): \"))\n",
    "if (age >= 18 and age <= 60) and \\\n",
    "    (monthly_income >= 25000) and \\\n",
    "    (credit_score >= 700) and \\\n",
    "    (outstanding_debt <= 10000):\n",
    "    print(\"\\nCongratulations!  Your loan application has been Approved.\")\n",
    "    \n",
    "else:\n",
    "    print(\"\\nWe're sorry. Your loan application has been Rejected .\")\n",
    "    print(\"\\nError: Invalid input. Please enter valid numbers for all fields and try again.\")\n",
    "\n"
   ]
  },
  {
   "cell_type": "code",
   "execution_count": 7,
   "id": "7b99d329-2afa-4706-96c9-717289b5bae9",
   "metadata": {},
   "outputs": [
    {
     "name": "stdin",
     "output_type": "stream",
     "text": [
      "Enter Academic Score :  67\n",
      "Enter Attendance Percentage :  77\n",
      "Participated in any extracurriculars?:  yes\n"
     ]
    },
    {
     "name": "stdout",
     "output_type": "stream",
     "text": [
      "\n",
      "Result: Eligible for Interview\n"
     ]
    }
   ],
   "source": [
    "###### 777777777777777\n",
    "\n",
    "\n",
    "academic_score = float(input(\"Enter Academic Score : \"))\n",
    "attendance = float(input(\"Enter Attendance Percentage : \"))\n",
    "extracurricular = input(\"Participated in any extracurriculars?: \")\n",
    "if academic_score >= 60 and attendance >= 75 and extracurricular.lower() == 'yes':\n",
    "    print(\"\\nResult: Eligible for Interview\")\n",
    "    \n",
    "else:\n",
    "    print(\"\\nResult: Not Eligible for Interview\")\n",
    "    print(\"\\nInvalid input. Please enter a valid number for score and attendance.\")\n"
   ]
  },
  {
   "cell_type": "code",
   "execution_count": 11,
   "id": "8d8ad975-e8f4-4d53-9d39-094be80c88d8",
   "metadata": {},
   "outputs": [
    {
     "name": "stdin",
     "output_type": "stream",
     "text": [
      "Please enter your email address:  abxc@gmail.com\n"
     ]
    },
    {
     "name": "stdout",
     "output_type": "stream",
     "text": [
      "\n",
      "Success! Your email is eligible for registration.\n"
     ]
    }
   ],
   "source": [
    "########## 888888888888\n",
    "\n",
    "\n",
    "required_domain = \"gmail.com\"\n",
    "user_email = input(\"Please enter your email address: \")\n",
    "if required_domain :\n",
    "    print(\"\\nSuccess! Your email is eligible for registration.\")\n",
    "else:\n",
    "    print(f\"\\nError: Only emails from the domain '{required_domain}' are accepted.\")\n"
   ]
  },
  {
   "cell_type": "code",
   "execution_count": 14,
   "id": "13e206df-6a02-4340-b024-18e2132faf0f",
   "metadata": {},
   "outputs": [
    {
     "name": "stdout",
     "output_type": "stream",
     "text": [
      "Employee 1 has access level: \n",
      "Employee 2 has access level: \n",
      "\n",
      "Result: Both employees have the same access level object.\n"
     ]
    }
   ],
   "source": [
    "##############  9999999999999999\n",
    "\n",
    "ADMIN = \"admin\"\n",
    "STAFF = \"staff\"\n",
    "VISITOR = \"visitor\"\n",
    "\n",
    "employee_1_access = ADMIN\n",
    "employee_2_access = ADMIN\n",
    "\n",
    "\n",
    "print(f\"Employee 1 has access level: \")\n",
    "print(f\"Employee 2 has access level: \")\n",
    "\n",
    "if employee_1_access is employee_2_access:\n",
    "    print(\"\\nResult: Both employees have the same access level object.\")\n",
    "else:\n",
    "    print(\"\\nResult: Employees have different access level objects.\")\n"
   ]
  },
  {
   "cell_type": "code",
   "execution_count": 49,
   "id": "e808d955-b369-4ac7-85b5-81d084ef43da",
   "metadata": {},
   "outputs": [
    {
     "name": "stdin",
     "output_type": "stream",
     "text": [
      "Enter your marks (0-100):  55\n"
     ]
    },
    {
     "name": "stdout",
     "output_type": "stream",
     "text": [
      "Your grade is: E\n"
     ]
    }
   ],
   "source": [
    "##########  100000000000000000000\n",
    "\n",
    "marks = int(input(\"Enter your marks (0-100): \"))\n",
    "if 90 <= marks <= 100:\n",
    "    grade = \"A\"\n",
    "elif 80 <= marks <= 89:\n",
    "    grade = \"B\"\n",
    "elif 70 <= marks <= 79:\n",
    "    grade = \"C\"\n",
    "elif 60 <= marks <= 69:\n",
    "    grade = \"D\"\n",
    "elif 50 <= marks <= 59:\n",
    "    grade = \"E\"\n",
    "elif 0 <= marks <= 49:\n",
    "    grade = \"F\"\n",
    "else:\n",
    "    grade = \"Invalid marks\"\n",
    "if grade == \"Invalid marks\":\n",
    "    print(f\"Error: {grade}. Please enter a number between 0 and 100.\")\n",
    "else:\n",
    "    print(f\"Your grade is: {grade}\")    \n",
    "     \n",
    "\n",
    "    \n",
    "\n"
   ]
  },
  {
   "cell_type": "code",
   "execution_count": 64,
   "id": "2da5edee-072f-4d79-acbe-72a6859765b9",
   "metadata": {},
   "outputs": [
    {
     "name": "stdin",
     "output_type": "stream",
     "text": [
      "Enter your username:  usjsj\n",
      "Enter your password:  ssddd\n"
     ]
    },
    {
     "name": "stdout",
     "output_type": "stream",
     "text": [
      "\n",
      "Authentication failed.\n"
     ]
    }
   ],
   "source": [
    "########### 111111111111111111\n",
    "\n",
    "\n",
    "valid_username = input(\"Enter your username: \")\n",
    "valid_password = input(\"Enter your password: \")\n",
    "if valid_username == \"user1\"  and valid_password == \"pass@123\":\n",
    "    print(\"\\nAuthentication successful.\")\n",
    "else:\n",
    "    print(\"\\nAuthentication failed.\")"
   ]
  },
  {
   "cell_type": "code",
   "execution_count": 11,
   "id": "86499c42-0825-4f2c-95bf-4ab44f003e4a",
   "metadata": {},
   "outputs": [
    {
     "name": "stdin",
     "output_type": "stream",
     "text": [
      "Enter years of experience:  16\n"
     ]
    },
    {
     "name": "stdout",
     "output_type": "stream",
     "text": [
      "Senior employee\n",
      "Experience above 15 years bonus added.\n",
      "Salary: 85000\n"
     ]
    }
   ],
   "source": [
    "############## 12222222222222222\n",
    "\n",
    "experience = int(input(\"Enter years of experience: \"))\n",
    "# Senior Employee (10+ years)\n",
    "if experience >= 10:\n",
    "    salary = 80000\n",
    "    print(\"Senior employee\")\n",
    "    if experience > 15:\n",
    "        salary = salary +5000\n",
    "        print(\"Experience above 15 years bonus added.\")\n",
    "\n",
    "#Mid-Level Employee (5-9 years)\n",
    "elif experience >= 5:\n",
    "    salary = 50000\n",
    "    print(\"Mid-level employee\")\n",
    "\n",
    "# Junior Employee (0-4 years)\n",
    "else:\n",
    "    salary = 30000\n",
    "    print(\"Junior employee\")\n",
    "print(f\"Salary: {salary}\")\n"
   ]
  },
  {
   "cell_type": "code",
   "execution_count": 51,
   "id": "bd49c5bf-7d1f-40e9-9689-8ef66e920d31",
   "metadata": {},
   "outputs": [
    {
     "name": "stdin",
     "output_type": "stream",
     "text": [
      "Enter the number of days the book was borrowed:  14\n"
     ]
    },
    {
     "name": "stdout",
     "output_type": "stream",
     "text": [
      "The total library charge is: Rs. 41\n"
     ]
    }
   ],
   "source": [
    "############## 13\n",
    "days_borrowed = int(input(\"Enter the number of days the book was borrowed: \"))\n",
    "\n",
    "total_charge=0\n",
    "\n",
    "    # Calculate total charge based on number of days borrowed\n",
    "if days_borrowed<= 5:\n",
    "    total_charge = days_borrowed * 2\n",
    "elif days_borrowed<=10 :\n",
    "    total_charge = 5 * 2 + (days_borrowed -5)*3 \n",
    "elif days_borrowed<=15:\n",
    "    total_charge = 5 * 2 + 5 * 3  + (days_borrowed - 10)*4 \n",
    "else:\n",
    "    total_charge = 5 * 2 + 5 * 3  + 5 * 4  + (days_borrowed - 15)*5\n",
    "    \n",
    "\n",
    "    # Display the calculated charge\n",
    "print(f\"The total library charge is: Rs. {total_charge}\")\n",
    "\n"
   ]
  },
  {
   "cell_type": "code",
   "execution_count": 1,
   "id": "01d4aec4-1c83-4e69-aaa7-dc616701af16",
   "metadata": {},
   "outputs": [
    {
     "name": "stdin",
     "output_type": "stream",
     "text": [
      "Enter first number:  44\n",
      "Enter second number:  55\n",
      "Enter third number:  32\n"
     ]
    },
    {
     "name": "stdout",
     "output_type": "stream",
     "text": [
      "Numbers in Descending Order: 55.0, 44.0, 32.0\n"
     ]
    }
   ],
   "source": [
    "#######  144444444444444444444444444444\n",
    "\n",
    "num1 = float(input(\"Enter first number: \"))\n",
    "num2 = float(input(\"Enter second number: \"))\n",
    "num3 = float(input(\"Enter third number: \"))\n",
    "if num1 >= num2 and num1 >= num3:\n",
    "    if num2 >= num3:\n",
    "        print(f\"Numbers in Descending Order: {num1}, {num2}, {num3}\")\n",
    "    else:\n",
    "        print(f\"Numbers in Descending Order: {num1}, {num3}, {num2}\")\n",
    "elif num2 >= num1 and num2 >= num3:\n",
    "    if num1 >= num3:\n",
    "        print(f\"Numbers in Descending Order: {num2}, {num1}, {num3}\")\n",
    "    else:\n",
    "        print(f\"Numbers in Descending Order: {num2}, {num3}, {num1}\")\n",
    "else:\n",
    "    if num1 >= num2:\n",
    "        print(f\"Numbers in Descending Order: {num3}, {num1}, {num2}\")\n",
    "    else:\n",
    "        print(f\"Numbers in Descending Order: {num3}, {num2}, {num1}\")\n",
    "        print(\"Invalid input. Please enter valid numbers.\")"
   ]
  },
  {
   "cell_type": "code",
   "execution_count": 10,
   "id": "177b84c1-8876-4b9d-9bd4-8446c34506d3",
   "metadata": {},
   "outputs": [
    {
     "name": "stdin",
     "output_type": "stream",
     "text": [
      "Enter the car brand:  maruti\n",
      "Enter the car price in Lakhs:  23\n"
     ]
    },
    {
     "name": "stdout",
     "output_type": "stream",
     "text": [
      "\n",
      " No tax rule found for a maruti at the price of 23.00L.\n",
      "Please ensure the brand is correct and the price is within its specified range.\n"
     ]
    }
   ],
   "source": [
    "########## 15\n",
    "\n",
    "brand = input(\"Enter the car brand: \")\n",
    "price = float(input(\"Enter the car price in Lakhs: \"))\n",
    "tax_percentage = 0\n",
    "valid_price_range = False\n",
    "if brand == \"Mahindra\":\n",
    "     if 7 <= price <= 10:\n",
    "         tax_percentage = 5\n",
    "         valid_price_range = True\n",
    "elif brand == \"Audi\":\n",
    "    if 10 <= price <= 15:\n",
    "        tax_percentage = 10\n",
    "        valid_price_range = True \n",
    "elif brand == \"Jaguar\":\n",
    "    if 15 <= price <= 20:\n",
    "        tax_percentage = 25\n",
    "        valid_price_range = True\n",
    "elif brand == \"Mercedez\":\n",
    "    if 20 <= price <= 25:\n",
    "        tax_percentage = 30\n",
    "        valid_price_range = True  \n",
    "if valid_price_range:\n",
    "    tax_amount = (tax_percentage / 100) * price\n",
    "    print(f\"\\n For a {brand} priced at {price:.2f}L, the applicable tax is {tax_percentage}%.\")\n",
    "    print(f\"Calculated Tax Amount: {tax_amount:.2f} Lakhs.\")\n",
    "else:\n",
    "    print(f\"\\n No tax rule found for a {brand} at the price of {price:.2f}L.\")\n",
    "    print(\"Please ensure the brand is correct and the price is within its specified range.\")\n",
    "               "
   ]
  },
  {
   "cell_type": "code",
   "execution_count": 15,
   "id": "142e8b36-dfee-4b55-b937-abc51593c0be",
   "metadata": {},
   "outputs": [
    {
     "name": "stdin",
     "output_type": "stream",
     "text": [
      "Enter the first number:  88\n",
      "Enter the second number:  66\n",
      "Enter the third number:  44\n"
     ]
    },
    {
     "name": "stdout",
     "output_type": "stream",
     "text": [
      "\n",
      "The middle number is: 66.0\n"
     ]
    }
   ],
   "source": [
    "############ 1666666666666666666666\n",
    "\n",
    "num1 = float(input(\"Enter the first number: \"))\n",
    "num2 = float(input(\"Enter the second number: \"))\n",
    "num3 = float(input(\"Enter the third number: \"))\n",
    "middle_number = None\n",
    "if (num2 <= num1 <= num3) or (num3 <= num1 <= num2):\n",
    "    middle_number = num1\n",
    "elif (num1 <= num2 <= num3) or (num3 <= num2 <= num1):\n",
    "    middle_number = num2\n",
    "else:\n",
    "    middle_number = num3\n",
    "print(f\"\\nThe middle number is: {middle_number}\")"
   ]
  },
  {
   "cell_type": "code",
   "execution_count": 56,
   "id": "79d9d51e-ec54-4d2c-9224-85480398d585",
   "metadata": {},
   "outputs": [
    {
     "name": "stdin",
     "output_type": "stream",
     "text": [
      "Enter the first number:  34\n",
      "Enter the second number:  467\n",
      "Enter the third number:  1\n"
     ]
    },
    {
     "name": "stdout",
     "output_type": "stream",
     "text": [
      "\n",
      "The greatest number is: 467.0\n"
     ]
    }
   ],
   "source": [
    "########################   17\n",
    "\n",
    "num1 = float(input(\"Enter the first number: \"))\n",
    "num2 = float(input(\"Enter the second number: \"))\n",
    "num3 = float(input(\"Enter the third number: \"))\n",
    "greatest_number = None\n",
    "if num2 <= num1  and num3 <= num1 :\n",
    "    greatest_number = num1\n",
    "elif num1 <= num2 and num3 <= num2 :\n",
    "    greatest_number = num2\n",
    "else:\n",
    "    greatest_number = num3\n",
    "print(f\"\\nThe greatest number is: {greatest_number}\")"
   ]
  },
  {
   "cell_type": "code",
   "execution_count": 59,
   "id": "003e1cdb-7113-4078-a1b8-da2a68a84507",
   "metadata": {},
   "outputs": [
    {
     "name": "stdin",
     "output_type": "stream",
     "text": [
      "Enter your username:  user1\n",
      "Enter your password:  pass@133\n"
     ]
    },
    {
     "name": "stdout",
     "output_type": "stream",
     "text": [
      "\n",
      "Authentication failed.\n"
     ]
    }
   ],
   "source": [
    "####################   18\n",
    "\n",
    "valid_username = \"user1\"\n",
    "valid_password = \"pass@123\"\n",
    "entered_username = input(\"Enter your username: \")\n",
    "entered_password = input(\"Enter your password: \")\n",
    "if entered_username == valid_username and entered_password == valid_password:\n",
    "    print(\"\\nAuthentication successful.\")\n",
    "else:\n",
    "    print(\"\\nAuthentication failed.\")"
   ]
  },
  {
   "cell_type": "code",
   "execution_count": 19,
   "id": "a4622fa0-bf42-47a6-bd0c-73622910ac29",
   "metadata": {},
   "outputs": [
    {
     "name": "stdin",
     "output_type": "stream",
     "text": [
      "Enter the total number of classes held:  10\n",
      "Enter the number of classes you attended:  5\n"
     ]
    },
    {
     "name": "stdout",
     "output_type": "stream",
     "text": [
      "\n",
      "Your attendance percentage is: 50.00%\n",
      "Eligibility Status: You are not eligible to sit in the exam.\n"
     ]
    }
   ],
   "source": [
    "#############  19\n",
    "\n",
    "total_classes = int(input(\"Enter the total number of classes held: \"))\n",
    "attended_classes = int(input(\"Enter the number of classes you attended: \"))\n",
    "if total_classes <= 0:\n",
    "    print(\"\\nTotal number of classes must be greater than zero.\")\n",
    "attendance_percentage = (attended_classes / total_classes) * 100\n",
    "print(f\"\\nYour attendance percentage is: {attendance_percentage:.2f}%\")\n",
    "if attendance_percentage >= 75:\n",
    "    print(\"Eligibility Status: You are eligible to sit in the exam.\")\n",
    "else:\n",
    "    print(\"Eligibility Status: You are not eligible to sit in the exam.\")\n"
   ]
  },
  {
   "cell_type": "code",
   "execution_count": 20,
   "id": "07a40d4f-5c3a-46fc-9118-cfdcc9a272de",
   "metadata": {},
   "outputs": [
    {
     "name": "stdin",
     "output_type": "stream",
     "text": [
      "Enter the number of days the book was borrowed:  71\n"
     ]
    },
    {
     "name": "stdout",
     "output_type": "stream",
     "text": [
      "The total library charge is: Rs. 325\n"
     ]
    }
   ],
   "source": [
    "##################  200000000000000000\n",
    "\n",
    "###### Get the number of days the book was borrowed from user input\n",
    "days_borrowed = int(input(\"Enter the number of days the book was borrowed: \"))\n",
    "\n",
    "total_charge=0\n",
    "\n",
    "    # Calculate total charge based on number of days borrowed\n",
    "if days_borrowed<= 5:\n",
    "    total_charge = days_borrowed * 2\n",
    "elif days_borrowed<=10 :\n",
    "    total_charge = 5 * 2 + (days_borrowed -5)*3 \n",
    "elif days_borrowed<=15:\n",
    "    total_charge = 5 * 2 + 5 * 3  + (days_borrowed - 10)*4 \n",
    "else:\n",
    "    total_charge = 5 * 2 + 5 * 3  + 5 * 4  + (days_borrowed - 15)*5\n",
    "    \n",
    "\n",
    "    # Display the calculated charge\n",
    "print(f\"The total library charge is: Rs. {total_charge}\")"
   ]
  },
  {
   "cell_type": "code",
   "execution_count": 16,
   "id": "ea525391-cc27-4259-9b2b-158029c58c4f",
   "metadata": {},
   "outputs": [
    {
     "name": "stdin",
     "output_type": "stream",
     "text": [
      "Enter your age:  24\n",
      "Are you a graduate? (Yes/No):  yes\n",
      "Enter your nationality:  indian\n"
     ]
    },
    {
     "name": "stdout",
     "output_type": "stream",
     "text": [
      "\n",
      "Eligibility Check: Passed.\n"
     ]
    },
    {
     "name": "stdin",
     "output_type": "stream",
     "text": [
      "Enter your Prelims score:  99\n"
     ]
    },
    {
     "name": "stdout",
     "output_type": "stream",
     "text": [
      "Prelims Exam: Passed.\n"
     ]
    },
    {
     "name": "stdin",
     "output_type": "stream",
     "text": [
      "Enter your Mains score:  456\n"
     ]
    },
    {
     "name": "stdout",
     "output_type": "stream",
     "text": [
      "\n",
      "Result: You failed the Mains.\n"
     ]
    }
   ],
   "source": [
    "#########################      21 \n",
    "PRELIMS_CUTOFF = 95\n",
    "MAINS_CUTOFF = 750\n",
    "INTERVIEW_CUTOFF = 175\n",
    "\n",
    "\n",
    "\n",
    "\n",
    "age = int(input(\"Enter your age: \"))\n",
    "graduate_status = input(\"Are you a graduate? (Yes/No): \")\n",
    "nationality = input(\"Enter your nationality: \")\n",
    "\n",
    "if (21 <= age <= 32) and (graduate_status == 'yes') and (nationality == 'indian'):\n",
    "    print(\"\\nEligibility Check: Passed.\")\n",
    "\n",
    "    \n",
    "    prelims_score = int(input(\"Enter your Prelims score: \"))\n",
    "    if prelims_score >= PRELIMS_CUTOFF:\n",
    "        print(\"Prelims Exam: Passed.\")\n",
    "\n",
    "        mains_score = int(input(\"Enter your Mains score: \"))\n",
    "        if mains_score >= MAINS_CUTOFF:\n",
    "            print(\"Mains Exam: Passed.\")\n",
    "\n",
    "            interview_score = int(input(\"Enter your Interview score: \"))\n",
    "            if interview_score >= INTERVIEW_CUTOFF:\n",
    "                print(\"\\n Congratulations! You have cleared the UPSC.\")\n",
    "            else:\n",
    "                print(\"\\nResult: You failed the Interview.\")\n",
    "        else:\n",
    "            print(\"\\nResult: You failed the Mains.\")\n",
    "    else:\n",
    "        print(\"\\nResult: You failed the Prelims.\")\n",
    "else:\n",
    "    # Provide specific reasons for ineligibility\n",
    "    print(\"\\n--- Eligibility Check: Failed. You are not eligible for the exam. ---\")\n",
    "    if not (21 <= age <= 32):\n",
    "        print(\"Reason: Age must be between 21 and 32.\")\n",
    "    if graduate_status != 'yes':\n",
    "        print(\"Reason: You must be a graduate.\")\n",
    "    if nationality != 'indian':\n",
    "        print(\"Reason: Nationality must be 'Indian'.\")"
   ]
  },
  {
   "cell_type": "code",
   "execution_count": 1,
   "id": "6c49a01b-a16f-48b3-8823-9917e2e7f161",
   "metadata": {},
   "outputs": [
    {
     "name": "stdin",
     "output_type": "stream",
     "text": [
      "Enter your contact detail: 77555346844\n",
      "Enter your OTP: 234\n",
      "Enter your email address: zzssfds@hhghjhg.com\n",
      "Enter your password: vfgfhgf\n"
     ]
    },
    {
     "name": "stdout",
     "output_type": "stream",
     "text": [
      "Enter valid credentials\n"
     ]
    }
   ],
   "source": [
    "# 22. Menu-Driven Login System\n",
    "phone_number = \"1234567890\"\n",
    "OTP = \"1234\"\n",
    "email = \"user@example.com\"\n",
    "password = \"password123\"\n",
    "\n",
    "contact = input(\"Enter your contact detail:\")\n",
    "otp = input(\"Enter your OTP:\")\n",
    "email_add = input(\"Enter your email address:\")\n",
    "_password = input(\"Enter your password:\")\n",
    "\n",
    "if (contact == phone_number and otp == OTP):\n",
    "    print(\"Login successful with phone!\")\n",
    "elif (email_add == email and _password == password):\n",
    "    print(\"Login successful with email!\")\n",
    "else:\n",
    "    print(\"Enter valid credentials\")"
   ]
  },
  {
   "cell_type": "code",
   "execution_count": null,
   "id": "3ed67105-2a88-4589-8457-f96dc32dd095",
   "metadata": {},
   "outputs": [],
   "source": []
  }
 ],
 "metadata": {
  "kernelspec": {
   "display_name": "Python 3 (ipykernel)",
   "language": "python",
   "name": "python3"
  },
  "language_info": {
   "codemirror_mode": {
    "name": "ipython",
    "version": 3
   },
   "file_extension": ".py",
   "mimetype": "text/x-python",
   "name": "python",
   "nbconvert_exporter": "python",
   "pygments_lexer": "ipython3",
   "version": "3.13.5"
  }
 },
 "nbformat": 4,
 "nbformat_minor": 5
}
