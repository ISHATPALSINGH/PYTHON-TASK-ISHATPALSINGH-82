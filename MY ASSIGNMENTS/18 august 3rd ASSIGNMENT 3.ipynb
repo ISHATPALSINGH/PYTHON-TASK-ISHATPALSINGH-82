{
 "cells": [
  {
   "cell_type": "code",
   "execution_count": 20,
   "id": "051d3526-81c0-4514-bf26-ed04093a5f20",
   "metadata": {},
   "outputs": [
    {
     "name": "stdout",
     "output_type": "stream",
     "text": [
      "Even numbers from 1 to 20: [2, 4, 6, 8, 10, 12, 14, 16, 18, 20]\n",
      "Odd numbers from 1 to 20:  [1, 3, 5, 7, 9, 11, 13, 15, 17, 19]\n"
     ]
    }
   ],
   "source": [
    "#1\n",
    "\n",
    "even_numbers = []\n",
    "odd_numbers = []\n",
    "for number in range(1, 21):\n",
    "   if number % 2 == 0:\n",
    "        even_numbers = even_numbers + [number]\n",
    "   else:\n",
    "       odd_numbers = odd_numbers + [number]\n",
    "print(\"Even numbers from 1 to 20:\",even_numbers)\n",
    "print(\"Odd numbers from 1 to 20: \", odd_numbers)"
   ]
  },
  {
   "cell_type": "code",
   "execution_count": 42,
   "id": "be6f9876-3624-4fee-81de-63fb1c79d00c",
   "metadata": {},
   "outputs": [
    {
     "name": "stdout",
     "output_type": "stream",
     "text": [
      "12\n",
      "24\n",
      "36\n",
      "48\n"
     ]
    }
   ],
   "source": [
    "# 2\n",
    "\n",
    "for i in range (12,50,12):\n",
    "    print(i)\n"
   ]
  },
  {
   "cell_type": "code",
   "execution_count": 33,
   "id": "446987a7-0a6b-4f8f-8618-3ca5f2315d51",
   "metadata": {},
   "outputs": [
    {
     "name": "stdin",
     "output_type": "stream",
     "text": [
      "Enter a number to see its multiplication table:  6\n"
     ]
    },
    {
     "name": "stdout",
     "output_type": "stream",
     "text": [
      "6 x 1 = 6\n",
      "6 x 2 = 12\n",
      "6 x 3 = 18\n",
      "6 x 4 = 24\n",
      "6 x 5 = 30\n",
      "6 x 6 = 36\n",
      "6 x 7 = 42\n",
      "6 x 8 = 48\n",
      "6 x 9 = 54\n",
      "6 x 10 = 60\n"
     ]
    }
   ],
   "source": [
    "#  3\n",
    "\n",
    "\n",
    "\n",
    "num = int(input(\"Enter a number to see its multiplication table: \"))\n",
    "for i in range(1, 11):\n",
    "    product = num * i\n",
    "    print(f\"{num} x {i} = {product}\")\n",
    "            "
   ]
  },
  {
   "cell_type": "code",
   "execution_count": 107,
   "id": "a4c055b1-e20e-4426-99ec-c0789618d455",
   "metadata": {},
   "outputs": [
    {
     "name": "stdin",
     "output_type": "stream",
     "text": [
      "Enter a number to check if it's prime:  18\n"
     ]
    },
    {
     "name": "stdout",
     "output_type": "stream",
     "text": [
      "18 is not a prime number.\n",
      "It is divisible by 2.\n",
      "18 is not a prime number.\n",
      "It is divisible by 3.\n",
      "18 is a prime number.\n"
     ]
    }
   ],
   "source": [
    "#  4\n",
    "\n",
    "\n",
    "num = int(input(\"Enter a number to check if it's prime: \"))\n",
    "if num > 1:\n",
    "    for i in range(2, int(num**0.5) + 1):\n",
    "        if num % i == 0:\n",
    "            print(f\"{num} is not a prime number.\")\n",
    "            print(f\"It is divisible by {i}.\")\n",
    "    \n",
    "    \n",
    "    else: \n",
    "        print(f\"{num} is a prime number.\")\n",
    "else:\n",
    "    print(f\"{num} is not a prime number.\")\n"
   ]
  },
  {
   "cell_type": "code",
   "execution_count": 52,
   "id": "1f03a99b-15a5-4707-850d-0d8502834f49",
   "metadata": {},
   "outputs": [
    {
     "name": "stdin",
     "output_type": "stream",
     "text": [
      "Enter the starting number:  5\n",
      "Enter the ending number:  8\n"
     ]
    },
    {
     "name": "stdout",
     "output_type": "stream",
     "text": [
      "The sum of numbers from 5 to 8 is: 26\n"
     ]
    }
   ],
   "source": [
    "#   5\n",
    "\n",
    "\n",
    "start = int(input(\"Enter the starting number: \"))\n",
    "end = int(input(\"Enter the ending number: \"))\n",
    "total_sum = 0\n",
    "for num in range(start, end + 1):\n",
    "    total_sum += num\n",
    "print(f\"The sum of numbers from {start} to {end} is: {total_sum}\")"
   ]
  },
  {
   "cell_type": "code",
   "execution_count": 53,
   "id": "196e8ead-3930-41aa-b336-2875d4df91f2",
   "metadata": {},
   "outputs": [
    {
     "name": "stdin",
     "output_type": "stream",
     "text": [
      "Enter the starting number:  5\n",
      "Enter the ending number:  7\n"
     ]
    },
    {
     "name": "stdout",
     "output_type": "stream",
     "text": [
      "The product of numbers from 5 to 7 is: 210\n"
     ]
    }
   ],
   "source": [
    "#   6\n",
    "\n",
    "\n",
    "start = int(input(\"Enter the starting number: \"))\n",
    "end = int(input(\"Enter the ending number: \"))\n",
    "product = 1\n",
    "for num in range(start, end + 1):\n",
    "    product = product * num \n",
    "print(f\"The product of numbers from {start} to {end} is: {product}\")"
   ]
  },
  {
   "cell_type": "code",
   "execution_count": 57,
   "id": "5b27abcc-0389-47c7-bc2a-ca5f7f951bf2",
   "metadata": {},
   "outputs": [
    {
     "name": "stdin",
     "output_type": "stream",
     "text": [
      "Enter the number of terms:  4\n"
     ]
    },
    {
     "name": "stdout",
     "output_type": "stream",
     "text": [
      "Fibonacci sequence:\n",
      "0 1 1 2 "
     ]
    }
   ],
   "source": [
    "#   7\n",
    "\n",
    "\n",
    "terms = int(input(\"Enter the number of terms: \"))\n",
    "\n",
    "a = 0\n",
    "b = 1\n",
    "\n",
    "print(\"Fibonacci sequence:\")\n",
    "\n",
    "for i in range(terms):\n",
    "    print(a, end=\" \")   \n",
    "    next_term = a + b   \n",
    "    a = b               \n",
    "    b = next_term\n"
   ]
  },
  {
   "cell_type": "code",
   "execution_count": 70,
   "id": "b9090cea-f64b-4eb5-976e-84b59e7450d0",
   "metadata": {},
   "outputs": [
    {
     "name": "stdin",
     "output_type": "stream",
     "text": [
      "Enter a non-negative number to find its factorial:  4\n"
     ]
    },
    {
     "name": "stdout",
     "output_type": "stream",
     "text": [
      "The factorial of 4 is: 24\n"
     ]
    }
   ],
   "source": [
    "# 8\n",
    "\n",
    "\n",
    "\n",
    "num = int(input(\"Enter a number to find its factorial: \"))\n",
    "if num < 0:\n",
    "     print(\"Factorial does not exist for negative numbers.\")\n",
    "elif num == 0:\n",
    "    print(\"The factorial of 0 is: 1\")\n",
    "else:\n",
    "    factorial_result = 1\n",
    "    for i in range(1, num + 1):\n",
    "        factorial_result *= i\n",
    "print(f\"The factorial of {num} is: {factorial_result}\")\n"
   ]
  },
  {
   "cell_type": "code",
   "execution_count": 92,
   "id": "3704003e-357d-4aa7-96ac-c2285bc950c5",
   "metadata": {},
   "outputs": [
    {
     "name": "stdout",
     "output_type": "stream",
     "text": [
      "The string is: 'python'\n",
      "The greatest character is: 'y'\n"
     ]
    }
   ],
   "source": [
    "# 9\n",
    "\n",
    "\n",
    "input_string = \"python\"\n",
    "greatest_char = input_string[0]\n",
    "for char in input_string:\n",
    "    if char > greatest_char:\n",
    "        greatest_char = char\n",
    "print(f\"The string is: '{input_string}'\")\n",
    "print(f\"The greatest character is: '{greatest_char}'\")"
   ]
  },
  {
   "cell_type": "code",
   "execution_count": 93,
   "id": "63d59eea-f72c-4dc2-a4f6-72f184f57c13",
   "metadata": {},
   "outputs": [
    {
     "name": "stdout",
     "output_type": "stream",
     "text": [
      "Dreaer nfotech"
     ]
    }
   ],
   "source": [
    "# 10\n",
    "\n",
    "text = \"Dreamer infotech\"\n",
    "for ch in text:\n",
    "    if ch != 'm' and ch != 'i':\n",
    "        print(ch, end=\"\")\n"
   ]
  },
  {
   "cell_type": "code",
   "execution_count": 94,
   "id": "d5c95122-6b78-4e86-a3fa-18a452a88c8b",
   "metadata": {},
   "outputs": [
    {
     "name": "stdout",
     "output_type": "stream",
     "text": [
      "Original string: programming\n",
      "Alternate characters: pormig\n"
     ]
    }
   ],
   "source": [
    "# 11\n",
    "\n",
    "input_string = \"programming\"\n",
    "result = \"\"\n",
    "for i in range(0, len(input_string), 2):\n",
    "    result += input_string[i]\n",
    "\n",
    "print(f\"Original string: {input_string}\")\n",
    "print(f\"Alternate characters: {result}\")"
   ]
  },
  {
   "cell_type": "code",
   "execution_count": 96,
   "id": "02173953-62a4-43c3-80e1-9f48498d2d34",
   "metadata": {},
   "outputs": [
    {
     "name": "stdin",
     "output_type": "stream",
     "text": [
      "Enter a string to reverse:  abcd\n"
     ]
    },
    {
     "name": "stdout",
     "output_type": "stream",
     "text": [
      "Reversed string: dcba\n"
     ]
    }
   ],
   "source": [
    "# 12\n",
    "\n",
    "\n",
    "input_string = input(\"Enter a string to reverse: \")\n",
    "reversed_string = \"\"\n",
    "for char in input_string:\n",
    "    reversed_string = char + reversed_string\n",
    "print(f\"Reversed string: {reversed_string}\")"
   ]
  },
  {
   "cell_type": "code",
   "execution_count": 97,
   "id": "5caab44d-40d6-4620-8868-f4120fa8955e",
   "metadata": {},
   "outputs": [
    {
     "name": "stdin",
     "output_type": "stream",
     "text": [
      "Enter a string:  amcdss\n"
     ]
    },
    {
     "name": "stdout",
     "output_type": "stream",
     "text": [
      "Total number of characters in the string: 6\n"
     ]
    }
   ],
   "source": [
    "# 13\n",
    "\n",
    "user_string = input(\"Enter a string: \")\n",
    "count = 0\n",
    "for char in user_string:\n",
    "    count += 1\n",
    "print(\"Total number of characters in the string:\", count)\n"
   ]
  },
  {
   "cell_type": "code",
   "execution_count": 100,
   "id": "2dfb8d49-8ad9-4c93-9928-d8175e2eb6ba",
   "metadata": {},
   "outputs": [
    {
     "name": "stdin",
     "output_type": "stream",
     "text": [
      "Enter a string:  rubber\n"
     ]
    },
    {
     "name": "stdout",
     "output_type": "stream",
     "text": [
      "rebbur\n",
      "input_string is not palindrom\n"
     ]
    }
   ],
   "source": [
    "# 14\n",
    "\n",
    "\n",
    "input_string = input(\"Enter a string: \")\n",
    "res=\"\"\n",
    "for e in input_string:\n",
    "    res=e+res\n",
    "print(res) \n",
    "\n",
    "if res==input_string:\n",
    "    print(\"input_string is palindrom\")\n",
    "else:\n",
    "    print(\"input_string is not palindrom\")"
   ]
  },
  {
   "cell_type": "code",
   "execution_count": 104,
   "id": "c6b15f4f-4368-4926-91e9-2f5c0d13e988",
   "metadata": {},
   "outputs": [
    {
     "name": "stdin",
     "output_type": "stream",
     "text": [
      "Enter a string:  tyreeee e\n",
      "Enter the character to search:  t\n"
     ]
    },
    {
     "name": "stdout",
     "output_type": "stream",
     "text": [
      "Character 't' found in the string.\n"
     ]
    }
   ],
   "source": [
    "# 15\n",
    "\n",
    "\n",
    "\n",
    "string = input(\"Enter a string: \")\n",
    "char_to_find = input(\"Enter the character to search: \")\n",
    "for ch in string:\n",
    "    if ch == char_to_find:\n",
    "        found = True\n",
    "if found:\n",
    "    print(f\"Character '{char_to_find}' found in the string.\")\n",
    "else:\n",
    "    print(f\"Character '{char_to_find}' not found in the string.\")\n"
   ]
  },
  {
   "cell_type": "code",
   "execution_count": 137,
   "id": "582112b3-e578-4701-bd0c-ad2ddea02639",
   "metadata": {},
   "outputs": [
    {
     "ename": "IndentationError",
     "evalue": "unindent does not match any outer indentation level (<string>, line 20)",
     "output_type": "error",
     "traceback": [
      "  \u001b[36mFile \u001b[39m\u001b[32m<string>:20\u001b[39m\n\u001b[31m    \u001b[39m\u001b[31mprint(\"Other characters found:\", \"\".join(others_found))\u001b[39m\n                                                              ^\n\u001b[31mIndentationError\u001b[39m\u001b[31m:\u001b[39m unindent does not match any outer indentation level\n"
     ]
    }
   ],
   "source": [
    "# 16 check\n",
    "\n",
    "\n",
    "input_string = input(\"Enter a string: \")\n",
    "vowels_found = []\n",
    "consonants_found = []\n",
    "others_found = []\n",
    "\n",
    "\n",
    "vowels = \"aeiou\"\n",
    "consonants = \"bcdfghjklmnpqrstvwxyz\"\n",
    "pri\n",
    "\n",
    "\n",
    "\n",
    "\n",
    "\n"
   ]
  },
  {
   "cell_type": "code",
   "execution_count": 110,
   "id": "bcd6e322-f035-4e07-8e91-b9d7026399e6",
   "metadata": {},
   "outputs": [
    {
     "name": "stdin",
     "output_type": "stream",
     "text": [
      "Enter a string to remove duplicates:  raman\n"
     ]
    },
    {
     "name": "stdout",
     "output_type": "stream",
     "text": [
      "Original string: raman\n",
      "String with duplicates removed: ramn\n"
     ]
    }
   ],
   "source": [
    "# 17\n",
    "\n",
    "\n",
    "input_string = input(\"Enter a string to remove duplicates: \")\n",
    "unique_chars = \"\"\n",
    "\n",
    "\n",
    "for char in input_string:\n",
    "    if char not in unique_chars:\n",
    "        unique_chars += char\n",
    "\n",
    "print(f\"Original string: {input_string}\")\n",
    "print(f\"String with duplicates removed: {unique_chars}\")"
   ]
  },
  {
   "cell_type": "code",
   "execution_count": 115,
   "id": "dc631b85-c91c-4728-8112-889966b8dd37",
   "metadata": {},
   "outputs": [
    {
     "name": "stdout",
     "output_type": "stream",
     "text": [
      "--- All possible pairs of numbers from 1 to 3 ---\n",
      "1:1\n",
      "1:2\n",
      "1:3\n",
      "2:1\n",
      "2:2\n",
      "2:3\n",
      "3:1\n",
      "3:2\n",
      "3:3\n"
     ]
    }
   ],
   "source": [
    "# 18    has to be checked\n",
    "\n",
    "\n",
    "limit=3\n",
    "print(f\"--- All possible pairs of numbers from 1 to {limit} ---\")\n",
    "for i in range(1, limit + 1):\n",
    "   for j in range(1, limit + 1):\n",
    "        print(f\"{i}:{j}\")"
   ]
  },
  {
   "cell_type": "code",
   "execution_count": 128,
   "id": "80c4e481-83d5-4c83-a317-eaf4960b500f",
   "metadata": {},
   "outputs": [
    {
     "name": "stdout",
     "output_type": "stream",
     "text": [
      "*   *\n",
      "*   *\n",
      "*****\n",
      "*   *\n",
      "*   *\n"
     ]
    }
   ],
   "source": [
    "# 19 \n",
    "\n",
    "height = 5\n",
    "width = 5\n",
    "middle_row = height // 2\n",
    "for row in range(height):\n",
    "    for col in range(width):\n",
    "        if col == 0 or col == width - 1 or row == middle_row:\n",
    "            print(\"*\", end=\"\")\n",
    "        else:\n",
    "            print(\" \", end=\"\")\n",
    "   \n",
    "    print()\n",
    "         "
   ]
  },
  {
   "cell_type": "code",
   "execution_count": 138,
   "id": "732279d4-14b6-4f98-beba-a09169d405bb",
   "metadata": {},
   "outputs": [
    {
     "name": "stdout",
     "output_type": "stream",
     "text": [
      "The duplicate letters are: []\n",
      "The duplicate letters are: []\n",
      "The duplicate letters are: []\n"
     ]
    }
   ],
   "source": [
    "# 20 check this\n",
    "\n",
    "\n",
    "\n",
    "string1 = \"virat\"\n",
    "string2 = \"rohit\"\n",
    "common_letters = []\n",
    "for char in string1:\n",
    "   if char in string2 and char not in common_letters:\n",
    "       print(f\"The duplicate letters are: {common_letters}\")"
   ]
  },
  {
   "cell_type": "code",
   "execution_count": 17,
   "id": "f1ccb8da-0b27-4108-b3bd-e605c8c46287",
   "metadata": {},
   "outputs": [
    {
     "name": "stdout",
     "output_type": "stream",
     "text": [
      "The square of 1 is 1\n",
      "The square of 2 is 4\n",
      "The square of 3 is 9\n",
      "The square of 4 is 16\n",
      "The square of 5 is 25\n",
      "The square of 6 is 36\n",
      "The square of 7 is 49\n",
      "The square of 8 is 64\n",
      "The square of 9 is 81\n",
      "The square of 10 is 100\n"
     ]
    }
   ],
   "source": [
    "# 21\n",
    "\n",
    "\n",
    "for number in range(1, 11):\n",
    "    square = number ** 2\n",
    "    print(f\"The square of {number} is {square}\")"
   ]
  },
  {
   "cell_type": "code",
   "execution_count": 18,
   "id": "1b136e4f-e856-4f38-8eb4-6141d74cec86",
   "metadata": {},
   "outputs": [
    {
     "name": "stdout",
     "output_type": "stream",
     "text": [
      "The string is: 'python'\n",
      "The sum of the indices (0+1+2+3+4+5) is: 15\n"
     ]
    }
   ],
   "source": [
    "# 22\n",
    "\n",
    "text = \"python\"\n",
    "total_sum = 0\n",
    "current_index = 0\n",
    "for char in text:\n",
    "    total_sum += current_index\n",
    "    current_index += 1\n",
    "\n",
    "print(f\"The string is: '{text}'\")\n",
    "print(f\"The sum of the indices (0+1+2+3+4+5) is: {total_sum}\")"
   ]
  },
  {
   "cell_type": "code",
   "execution_count": 20,
   "id": "e4202ba6-9581-46f1-8e47-4926302e8966",
   "metadata": {},
   "outputs": [
    {
     "name": "stdout",
     "output_type": "stream",
     "text": [
      "The number of vowels is: 4\n"
     ]
    }
   ],
   "source": [
    "# 23\n",
    "\n",
    "text = \"python programming\"\n",
    "vowels = \"aeiou\"\n",
    "vowel_count = 0\n",
    "\n",
    "for char in text:\n",
    "    if char in vowels:\n",
    "        vowel_count += 1\n",
    "print(f\"The number of vowels is: {vowel_count}\")"
   ]
  },
  {
   "cell_type": "code",
   "execution_count": 2,
   "id": "4c20c827-0048-4b66-b8fe-2591edc0746b",
   "metadata": {},
   "outputs": [
    {
     "name": "stdout",
     "output_type": "stream",
     "text": [
      "The repeating characters are: 'rmg'\n"
     ]
    }
   ],
   "source": [
    "# 24\n",
    "\n",
    "text = \"programming\"\n",
    "total = \"\"\n",
    "repeats= \"\"\n",
    "for char in text:\n",
    "    if char in total:\n",
    "        if char not in repeats:\n",
    "            repeats =repeats+ char\n",
    "    else:\n",
    "        total=total+char\n",
    "\n",
    "print(f\"The repeating characters are: '{repeats}'\")"
   ]
  },
  {
   "cell_type": "code",
   "execution_count": 4,
   "id": "004ddf2d-fad6-4888-a3ab-1268493158e8",
   "metadata": {},
   "outputs": [
    {
     "name": "stdout",
     "output_type": "stream",
     "text": [
      "The greatest character (digit) is: '7'\n"
     ]
    }
   ],
   "source": [
    "# 25\n",
    "\n",
    "input_string = \"01275623\"\n",
    "greatest_char = input_string[0]\n",
    "for char in input_string:\n",
    "   if char > greatest_char:\n",
    "        greatest_char = char\n",
    "\n",
    "print(f\"The greatest character (digit) is: '{greatest_char}'\")"
   ]
  },
  {
   "cell_type": "code",
   "execution_count": 38,
   "id": "6badbbc3-c27e-4ef5-b0c6-faac33a8933d",
   "metadata": {},
   "outputs": [],
   "source": [
    "# 26  check\n",
    "\n",
    "text = \"knowyourself\"\n",
    "\n",
    "seen_characters = []\n",
    "\n",
    "\n",
    "\n",
    "\n",
    "\n",
    "\n"
   ]
  },
  {
   "cell_type": "code",
   "execution_count": null,
   "id": "e285684b-22a3-48b2-9a65-4d98be7e0950",
   "metadata": {},
   "outputs": [],
   "source": [
    "# 27  check\n",
    "\n",
    "text = \"if you think you can not do, you can not show think wisely\"\n",
    "\n"
   ]
  },
  {
   "cell_type": "code",
   "execution_count": 2,
   "id": "122bd5a9-e140-4fdf-94ae-0660b1766c48",
   "metadata": {},
   "outputs": [
    {
     "name": "stdout",
     "output_type": "stream",
     "text": [
      "Alternate characters: koyusl\n"
     ]
    }
   ],
   "source": [
    "# 28\n",
    "\n",
    "text = \"knowyourself\"\n",
    "result = \"\"\n",
    "\n",
    "for i in range(0, len(text), 2):\n",
    "    result =result+text[i]\n",
    "print(f\"Alternate characters: {result}\")"
   ]
  },
  {
   "cell_type": "code",
   "execution_count": 11,
   "id": "4f32e99c-613c-4077-ad91-0bf10bde6c7c",
   "metadata": {},
   "outputs": [
    {
     "name": "stdin",
     "output_type": "stream",
     "text": [
      "Enter the start number:  5\n",
      "Enter the end number:  19\n"
     ]
    },
    {
     "name": "stdout",
     "output_type": "stream",
     "text": [
      "5:Odd 6:Even 7:Odd 8:Even 9:Odd 10:Even 11:Odd 12:Even 13:Odd 14:Even 15:Odd 16:Even 17:Odd 18:Even 19:Odd "
     ]
    }
   ],
   "source": [
    "#  29\n",
    "\n",
    "start = int(input(\"Enter the start number: \"))\n",
    "end = int(input(\"Enter the end number: \"))\n",
    "for number in range(start, end + 1):\n",
    "    if number % 2 == 0:\n",
    "        label = \"Even\"\n",
    "    else:\n",
    "        label = \"Odd\"\n",
    "    print(f\"{number}:{label}\", end=\" \")"
   ]
  },
  {
   "cell_type": "code",
   "execution_count": 13,
   "id": "1a01e5b3-3ddf-4ec1-8f5f-c278e44f0071",
   "metadata": {},
   "outputs": [
    {
     "name": "stdout",
     "output_type": "stream",
     "text": [
      "The sum of the digits is: 58\n"
     ]
    }
   ],
   "source": [
    "# 30\n",
    "\n",
    "\n",
    "input_string = \"198765456412\"\n",
    "total_sum = 0\n",
    "\n",
    "for digit_char in input_string:\n",
    "    total_sum += int(digit_char)\n",
    "\n",
    "print(f\"The sum of the digits is: {total_sum}\")"
   ]
  },
  {
   "cell_type": "code",
   "execution_count": 15,
   "id": "a6fd5ad3-7e96-4b17-8976-2033db82aa32",
   "metadata": {},
   "outputs": [
    {
     "name": "stdout",
     "output_type": "stream",
     "text": [
      "The count of digits greater than 5 is: 4\n"
     ]
    }
   ],
   "source": [
    "# 31\n",
    "\n",
    "\n",
    "text = \"1234567890\"\n",
    "count = 0\n",
    "\n",
    "for digit_char in text:\n",
    "    if int(digit_char) > 5:\n",
    "        count =count +1\n",
    "print(f\"The count of digits greater than 5 is: {count}\")"
   ]
  },
  {
   "cell_type": "code",
   "execution_count": 21,
   "id": "9199d9dc-0751-4d65-a789-6fcbe4e69e3b",
   "metadata": {},
   "outputs": [
    {
     "name": "stdin",
     "output_type": "stream",
     "text": [
      "Enter a string:  originul\n",
      "Enter the character to replace:  u\n",
      "Enter the character to replace it with:  a\n"
     ]
    },
    {
     "name": "stdout",
     "output_type": "stream",
     "text": [
      "\n",
      "Original string: originul\n",
      "Modified string: original\n"
     ]
    }
   ],
   "source": [
    "# 32\n",
    "\n",
    "\n",
    "original_string = input(\"Enter a string: \")\n",
    "char_to_replace = input(\"Enter the character to replace: \")\n",
    "replacement_char = input(\"Enter the character to replace it with: \")\n",
    "\n",
    "new_string = \"\"\n",
    "\n",
    "for char in original_string:\n",
    "    if char == char_to_replace:\n",
    "        new_string += replacement_char\n",
    "    else:\n",
    "        new_string += char\n",
    "print(f\"\\nOriginal string: {original_string}\")\n",
    "print(f\"Modified string: {new_string}\")"
   ]
  },
  {
   "cell_type": "code",
   "execution_count": 28,
   "id": "5358da18-285d-44dc-9a6c-0f429805abac",
   "metadata": {},
   "outputs": [
    {
     "name": "stdout",
     "output_type": "stream",
     "text": [
      "Original string: a b c d e f g h i\n",
      "Modified string: a_b_c_d_e_f_g_h_i\n"
     ]
    }
   ],
   "source": [
    "# 33\n",
    "\n",
    "\n",
    "text = \"a b c d e f g h i\"\n",
    "result = \"\"\n",
    "for char in text:\n",
    "    if char == \" \":      \n",
    "        result =result +\"_\"        \n",
    "    else:\n",
    "        result = result+char     \n",
    "\n",
    "# Print the result\n",
    "print(\"Original string:\", text)\n",
    "print(\"Modified string:\", result)\n"
   ]
  },
  {
   "cell_type": "code",
   "execution_count": 30,
   "id": "a2045c0e-4694-4c8c-b85c-faa38185507a",
   "metadata": {},
   "outputs": [
    {
     "name": "stdin",
     "output_type": "stream",
     "text": [
      "Enter a string to remove duplicates:  raman\n"
     ]
    },
    {
     "name": "stdout",
     "output_type": "stream",
     "text": [
      "String with duplicates: ramn\n"
     ]
    }
   ],
   "source": [
    "# 34\n",
    "\n",
    "\n",
    "input_string = input(\"Enter a string to remove duplicates: \")\n",
    "\n",
    "unique_chars = \"\"\n",
    "for char in input_string:\n",
    "   if char not in unique_chars:\n",
    "       unique_chars += char\n",
    "\n",
    "print(f\"String with duplicates: {unique_chars}\")"
   ]
  },
  {
   "cell_type": "code",
   "execution_count": 6,
   "id": "4fda6297-f4cf-479f-83bd-cfd44dfc2f71",
   "metadata": {},
   "outputs": [
    {
     "name": "stdin",
     "output_type": "stream",
     "text": [
      "Enter a string:  tip top\n"
     ]
    },
    {
     "name": "stdout",
     "output_type": "stream",
     "text": [
      "Modified string: tip * top\n"
     ]
    }
   ],
   "source": [
    "# 35\n",
    "\n",
    "input_string = input(\"Enter a string: \")\n",
    "result = \"\"\n",
    "for char in input_string:\n",
    "    if char == \" \":          \n",
    "        result += \" * \"        \n",
    "    else:\n",
    "        result += char     \n",
    "\n",
    "print(\"Modified string:\", result)\n",
    "\n"
   ]
  },
  {
   "cell_type": "code",
   "execution_count": 14,
   "id": "2b336c58-b992-492d-9754-30be832a6a0a",
   "metadata": {},
   "outputs": [
    {
     "name": "stdout",
     "output_type": "stream",
     "text": [
      "Entered a string: Hello coders from Success24\n",
      "Number of words: 4\n"
     ]
    }
   ],
   "source": [
    "# 36\n",
    "\n",
    "\n",
    "input_string = \"Hello coders from Success24\"\n",
    "\n",
    "words = ['Hello', 'coders', 'from', 'Success24']\n",
    "\n",
    "word_count = 0\n",
    "\n",
    "for word in words:\n",
    "    word_count += 1\n",
    "\n",
    "print(f\"Entered a string: {input_string}\")\n",
    "print(f\"Number of words: {word_count}\")"
   ]
  },
  {
   "cell_type": "code",
   "execution_count": 34,
   "id": "1a54aaf3-2d7b-4641-8e70-a6f04a0b81b6",
   "metadata": {},
   "outputs": [
    {
     "name": "stdout",
     "output_type": "stream",
     "text": [
      "Uppercase letters count: 8\n",
      "Lowercase letters count: 11\n"
     ]
    }
   ],
   "source": [
    "# 37\n",
    "\n",
    "\n",
    "input_string = \"Hello World HOW are YOU\"\n",
    "\n",
    "\n",
    "lower_count = 0\n",
    "upper_count = 0\n",
    "\n",
    "\n",
    "for char in input_string:\n",
    "    if 'a' <= char <= 'z':\n",
    "        lower_count += 1\n",
    "    elif 'A' <= char  <= 'Z':\n",
    "        upper_count += 1\n",
    "\n",
    "print(f\"Uppercase letters count: {upper_count}\")\n",
    "print(f\"Lowercase letters count: {lower_count}\")"
   ]
  },
  {
   "cell_type": "code",
   "execution_count": 36,
   "id": "ee7fd638-ca2c-4922-a0d6-cd5cc3548667",
   "metadata": {},
   "outputs": [
    {
     "name": "stdout",
     "output_type": "stream",
     "text": [
      "Characters at odd indices: optryhn\n"
     ]
    }
   ],
   "source": [
    "#  38\n",
    "\n",
    "\n",
    "input_string = \"computerpython\"\n",
    "result = \"\"\n",
    "\n",
    "\n",
    "for i in range(1, len(input_string), 2):\n",
    "    result += input_string[i]\n",
    "\n",
    "print(f\"Characters at odd indices: {result}\")"
   ]
  },
  {
   "cell_type": "code",
   "execution_count": 42,
   "id": "8f481c8d-ee1f-4367-a924-6a5b12ad2159",
   "metadata": {},
   "outputs": [
    {
     "name": "stdin",
     "output_type": "stream",
     "text": [
      "Enter a string:  how are you all\n"
     ]
    },
    {
     "name": "stdout",
     "output_type": "stream",
     "text": [
      "String without spaces: 'howareyouall'\n"
     ]
    }
   ],
   "source": [
    "# 39\n",
    "\n",
    "\n",
    "\n",
    "# input_string=(how are you all)\n",
    "\n",
    "input_string = input(\"Enter a string: \")\n",
    "\n",
    "string_without_spaces = \"\"\n",
    "for char in input_string:\n",
    "    if char != \" \":\n",
    "        string_without_spaces =string_without_spaces + char\n",
    "\n",
    "print(f\"String without spaces: '{string_without_spaces}'\")"
   ]
  },
  {
   "cell_type": "code",
   "execution_count": 55,
   "id": "e738ce27-c5a1-4559-8fc0-42c32f3d68cb",
   "metadata": {},
   "outputs": [
    {
     "name": "stdin",
     "output_type": "stream",
     "text": [
      "Enter a string:  text=”sytax_error2806 hai\n"
     ]
    },
    {
     "name": "stdout",
     "output_type": "stream",
     "text": [
      "(0, 1, 2, 3, 4, 5, 6, 7, 8, 9)\n"
     ]
    }
   ],
   "source": [
    "# 40\n",
    "\n",
    "\n",
    "input_string = input(\"Enter a string: \")\n",
    "for char in input_string:\n",
    "   digit = (0, 1 , 2, 3, 4, 5, 6, 7, 8 ,9)\n",
    "print(digit)"
   ]
  },
  {
   "cell_type": "code",
   "execution_count": null,
   "id": "ccd7acd1-7912-40d0-bf26-7e4e77adff7d",
   "metadata": {},
   "outputs": [],
   "source": []
  }
 ],
 "metadata": {
  "kernelspec": {
   "display_name": "Python 3 (ipykernel)",
   "language": "python",
   "name": "python3"
  },
  "language_info": {
   "codemirror_mode": {
    "name": "ipython",
    "version": 3
   },
   "file_extension": ".py",
   "mimetype": "text/x-python",
   "name": "python",
   "nbconvert_exporter": "python",
   "pygments_lexer": "ipython3",
   "version": "3.13.5"
  }
 },
 "nbformat": 4,
 "nbformat_minor": 5
}
